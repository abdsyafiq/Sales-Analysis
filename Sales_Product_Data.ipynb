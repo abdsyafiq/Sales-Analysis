{
  "nbformat": 4,
  "nbformat_minor": 0,
  "metadata": {
    "colab": {
      "name": "Sales Product Data.ipynb",
      "provenance": [],
      "collapsed_sections": [],
      "toc_visible": true
    },
    "kernelspec": {
      "name": "python3",
      "display_name": "Python 3"
    },
    "language_info": {
      "name": "python"
    }
  },
  "cells": [
    {
      "cell_type": "code",
      "execution_count": 1,
      "metadata": {
        "colab": {
          "base_uri": "https://localhost:8080/"
        },
        "id": "0i1USq6XygP_",
        "outputId": "72594db6-f140-4cc4-a0c1-3cf4f9372c8d"
      },
      "outputs": [
        {
          "output_type": "stream",
          "name": "stdout",
          "text": [
            "Drive already mounted at /content/drive; to attempt to forcibly remount, call drive.mount(\"/content/drive\", force_remount=True).\n"
          ]
        }
      ],
      "source": [
        "from google.colab import drive\n",
        "drive.mount('/content/drive')"
      ]
    },
    {
      "cell_type": "code",
      "source": [
        "import numpy as np\n",
        "import pandas as pd\n",
        "import seaborn as sns\n",
        "import matplotlib\n",
        "import matplotlib.pyplot as plt\n",
        "import math\n",
        "import sys\n",
        "import os\n",
        "from itertools import combinations\n",
        "from collections import Counter"
      ],
      "metadata": {
        "id": "pJzOcixhy3XO"
      },
      "execution_count": 2,
      "outputs": []
    },
    {
      "cell_type": "markdown",
      "source": [
        "# A. Dataset Introduction\n"
      ],
      "metadata": {
        "id": "HISZTbPN2F8H"
      }
    },
    {
      "cell_type": "markdown",
      "source": [
        "Dataset yang akan digunakan didapatkan dari website kaggle (https://www.kaggle.com/datasets/knightbearr/sales-product-data?datasetId=1695352&sortBy=voteCount)."
      ],
      "metadata": {
        "id": "8KFMEJYWZeaz"
      }
    },
    {
      "cell_type": "markdown",
      "source": [
        "## **Context**"
      ],
      "metadata": {
        "id": "oivRd4XDZzMq"
      }
    },
    {
      "cell_type": "markdown",
      "source": [
        "Sales analytics is the practice of generating insights from sales data, trends, and metrics to set targets and forecast future sales performance. Sales analysis is mining your data to evaluate the performance of your sales team against its goals. It provides insights about the top performing and underperforming products/services, the problems in selling and market opportunities, sales forecasting, and sales activities that generate revenue."
      ],
      "metadata": {
        "id": "2-2bLQ0xZ2hj"
      }
    },
    {
      "cell_type": "markdown",
      "source": [
        "## **Content**"
      ],
      "metadata": {
        "id": "v4h_i9n9Z_Qy"
      }
    },
    {
      "cell_type": "markdown",
      "source": [
        "- **Order ID** - An Order ID is the number system that Amazon uses exclusively to keep track of orders. Each order receives its own Order ID that will not be duplicated. This number can be useful to the seller when attempting to find out certain details about an order such as shipment date or status.\n",
        "\n",
        "- **Product** - The product that have been sold.\n",
        "\n",
        "- **Quantity Ordered** - Ordered Quantity is the total item quantity ordered in the initial order (without any changes).\n",
        "\n",
        "- **Price Each** - The price of each products.\n",
        "\n",
        "- **Order Date** - This is the date the customer is requesting the order be shipped.\n",
        "\n",
        "- **Purchase Address** - The purchase order is prepared by the buyer, often through a purchasing department. The purchase order, or PO, usually includes a PO number, which is useful in matching shipments with purchases; a shipping date; billing address; shipping address; and the request items, quantities and price."
      ],
      "metadata": {
        "id": "dTEebkzVaE2z"
      }
    },
    {
      "cell_type": "markdown",
      "source": [
        "## **Target**"
      ],
      "metadata": {
        "id": "qmGpL3YAajYP"
      }
    },
    {
      "cell_type": "markdown",
      "source": [
        "A target market analysis is an assessment of how your product or service fits into a specific market and where it will gain the most."
      ],
      "metadata": {
        "id": "0dVvoa8yal-W"
      }
    },
    {
      "cell_type": "markdown",
      "source": [
        "## **Task**"
      ],
      "metadata": {
        "id": "KO0rwR_7aqOW"
      }
    },
    {
      "cell_type": "markdown",
      "source": [
        "1. What was the best month for sales? How much was earned that month?\n",
        "\n",
        "2. What City had the highest number of sales?\n",
        "\n",
        "3. What time should we display adverstisement to maximize likelihood of customer's buying product?\n",
        "\n",
        "4. What products are most often sold together?\n",
        "\n",
        "5. What product sold the most? Why do you think it sold the most?\n"
      ],
      "metadata": {
        "id": "pAFUDmgNar5h"
      }
    },
    {
      "cell_type": "markdown",
      "source": [
        "# B. Dataset Understanding"
      ],
      "metadata": {
        "id": "s5F9AE1QbS1i"
      }
    },
    {
      "cell_type": "markdown",
      "source": [
        "## **Import and Read Data**"
      ],
      "metadata": {
        "id": "4RttXyFYdP9F"
      }
    },
    {
      "cell_type": "code",
      "source": [
        "files = [j for j in os.listdir('/content/drive/MyDrive/Analysis/Sales Product Data/Data')]\n",
        "\n",
        "# let's make a pandas DataFrame\n",
        "data_raw = pd.DataFrame()\n",
        "\n",
        "# makes a loop for concat the data\n",
        "for file in files:\n",
        "    data = pd.read_csv('/content/drive/MyDrive/Analysis/Sales Product Data/Data/' + file)\n",
        "    data_raw  = pd.concat([data_raw , data])"
      ],
      "metadata": {
        "id": "jhkOJQGb06Z5"
      },
      "execution_count": 3,
      "outputs": []
    },
    {
      "cell_type": "code",
      "source": [
        "data_raw.head()"
      ],
      "metadata": {
        "colab": {
          "base_uri": "https://localhost:8080/",
          "height": 206
        },
        "id": "THypMdLQ1G8L",
        "outputId": "6498e24d-6303-4670-b268-403e239b7687"
      },
      "execution_count": 4,
      "outputs": [
        {
          "output_type": "execute_result",
          "data": {
            "text/plain": [
              "  Order ID                   Product Quantity Ordered Price Each  \\\n",
              "0   141234                    iPhone                1        700   \n",
              "1   141235  Lightning Charging Cable                1      14.95   \n",
              "2   141236          Wired Headphones                2      11.99   \n",
              "3   141237          27in FHD Monitor                1     149.99   \n",
              "4   141238          Wired Headphones                1      11.99   \n",
              "\n",
              "       Order Date                       Purchase Address  \n",
              "0  01/22/19 21:25        944 Walnut St, Boston, MA 02215  \n",
              "1  01/28/19 14:15       185 Maple St, Portland, OR 97035  \n",
              "2  01/17/19 13:33  538 Adams St, San Francisco, CA 94016  \n",
              "3  01/05/19 20:33     738 10th St, Los Angeles, CA 90001  \n",
              "4  01/25/19 11:59          387 10th St, Austin, TX 73301  "
            ],
            "text/html": [
              "\n",
              "  <div id=\"df-3cf40d1c-7554-48fd-8f25-be362b008683\">\n",
              "    <div class=\"colab-df-container\">\n",
              "      <div>\n",
              "<style scoped>\n",
              "    .dataframe tbody tr th:only-of-type {\n",
              "        vertical-align: middle;\n",
              "    }\n",
              "\n",
              "    .dataframe tbody tr th {\n",
              "        vertical-align: top;\n",
              "    }\n",
              "\n",
              "    .dataframe thead th {\n",
              "        text-align: right;\n",
              "    }\n",
              "</style>\n",
              "<table border=\"1\" class=\"dataframe\">\n",
              "  <thead>\n",
              "    <tr style=\"text-align: right;\">\n",
              "      <th></th>\n",
              "      <th>Order ID</th>\n",
              "      <th>Product</th>\n",
              "      <th>Quantity Ordered</th>\n",
              "      <th>Price Each</th>\n",
              "      <th>Order Date</th>\n",
              "      <th>Purchase Address</th>\n",
              "    </tr>\n",
              "  </thead>\n",
              "  <tbody>\n",
              "    <tr>\n",
              "      <th>0</th>\n",
              "      <td>141234</td>\n",
              "      <td>iPhone</td>\n",
              "      <td>1</td>\n",
              "      <td>700</td>\n",
              "      <td>01/22/19 21:25</td>\n",
              "      <td>944 Walnut St, Boston, MA 02215</td>\n",
              "    </tr>\n",
              "    <tr>\n",
              "      <th>1</th>\n",
              "      <td>141235</td>\n",
              "      <td>Lightning Charging Cable</td>\n",
              "      <td>1</td>\n",
              "      <td>14.95</td>\n",
              "      <td>01/28/19 14:15</td>\n",
              "      <td>185 Maple St, Portland, OR 97035</td>\n",
              "    </tr>\n",
              "    <tr>\n",
              "      <th>2</th>\n",
              "      <td>141236</td>\n",
              "      <td>Wired Headphones</td>\n",
              "      <td>2</td>\n",
              "      <td>11.99</td>\n",
              "      <td>01/17/19 13:33</td>\n",
              "      <td>538 Adams St, San Francisco, CA 94016</td>\n",
              "    </tr>\n",
              "    <tr>\n",
              "      <th>3</th>\n",
              "      <td>141237</td>\n",
              "      <td>27in FHD Monitor</td>\n",
              "      <td>1</td>\n",
              "      <td>149.99</td>\n",
              "      <td>01/05/19 20:33</td>\n",
              "      <td>738 10th St, Los Angeles, CA 90001</td>\n",
              "    </tr>\n",
              "    <tr>\n",
              "      <th>4</th>\n",
              "      <td>141238</td>\n",
              "      <td>Wired Headphones</td>\n",
              "      <td>1</td>\n",
              "      <td>11.99</td>\n",
              "      <td>01/25/19 11:59</td>\n",
              "      <td>387 10th St, Austin, TX 73301</td>\n",
              "    </tr>\n",
              "  </tbody>\n",
              "</table>\n",
              "</div>\n",
              "      <button class=\"colab-df-convert\" onclick=\"convertToInteractive('df-3cf40d1c-7554-48fd-8f25-be362b008683')\"\n",
              "              title=\"Convert this dataframe to an interactive table.\"\n",
              "              style=\"display:none;\">\n",
              "        \n",
              "  <svg xmlns=\"http://www.w3.org/2000/svg\" height=\"24px\"viewBox=\"0 0 24 24\"\n",
              "       width=\"24px\">\n",
              "    <path d=\"M0 0h24v24H0V0z\" fill=\"none\"/>\n",
              "    <path d=\"M18.56 5.44l.94 2.06.94-2.06 2.06-.94-2.06-.94-.94-2.06-.94 2.06-2.06.94zm-11 1L8.5 8.5l.94-2.06 2.06-.94-2.06-.94L8.5 2.5l-.94 2.06-2.06.94zm10 10l.94 2.06.94-2.06 2.06-.94-2.06-.94-.94-2.06-.94 2.06-2.06.94z\"/><path d=\"M17.41 7.96l-1.37-1.37c-.4-.4-.92-.59-1.43-.59-.52 0-1.04.2-1.43.59L10.3 9.45l-7.72 7.72c-.78.78-.78 2.05 0 2.83L4 21.41c.39.39.9.59 1.41.59.51 0 1.02-.2 1.41-.59l7.78-7.78 2.81-2.81c.8-.78.8-2.07 0-2.86zM5.41 20L4 18.59l7.72-7.72 1.47 1.35L5.41 20z\"/>\n",
              "  </svg>\n",
              "      </button>\n",
              "      \n",
              "  <style>\n",
              "    .colab-df-container {\n",
              "      display:flex;\n",
              "      flex-wrap:wrap;\n",
              "      gap: 12px;\n",
              "    }\n",
              "\n",
              "    .colab-df-convert {\n",
              "      background-color: #E8F0FE;\n",
              "      border: none;\n",
              "      border-radius: 50%;\n",
              "      cursor: pointer;\n",
              "      display: none;\n",
              "      fill: #1967D2;\n",
              "      height: 32px;\n",
              "      padding: 0 0 0 0;\n",
              "      width: 32px;\n",
              "    }\n",
              "\n",
              "    .colab-df-convert:hover {\n",
              "      background-color: #E2EBFA;\n",
              "      box-shadow: 0px 1px 2px rgba(60, 64, 67, 0.3), 0px 1px 3px 1px rgba(60, 64, 67, 0.15);\n",
              "      fill: #174EA6;\n",
              "    }\n",
              "\n",
              "    [theme=dark] .colab-df-convert {\n",
              "      background-color: #3B4455;\n",
              "      fill: #D2E3FC;\n",
              "    }\n",
              "\n",
              "    [theme=dark] .colab-df-convert:hover {\n",
              "      background-color: #434B5C;\n",
              "      box-shadow: 0px 1px 3px 1px rgba(0, 0, 0, 0.15);\n",
              "      filter: drop-shadow(0px 1px 2px rgba(0, 0, 0, 0.3));\n",
              "      fill: #FFFFFF;\n",
              "    }\n",
              "  </style>\n",
              "\n",
              "      <script>\n",
              "        const buttonEl =\n",
              "          document.querySelector('#df-3cf40d1c-7554-48fd-8f25-be362b008683 button.colab-df-convert');\n",
              "        buttonEl.style.display =\n",
              "          google.colab.kernel.accessAllowed ? 'block' : 'none';\n",
              "\n",
              "        async function convertToInteractive(key) {\n",
              "          const element = document.querySelector('#df-3cf40d1c-7554-48fd-8f25-be362b008683');\n",
              "          const dataTable =\n",
              "            await google.colab.kernel.invokeFunction('convertToInteractive',\n",
              "                                                     [key], {});\n",
              "          if (!dataTable) return;\n",
              "\n",
              "          const docLinkHtml = 'Like what you see? Visit the ' +\n",
              "            '<a target=\"_blank\" href=https://colab.research.google.com/notebooks/data_table.ipynb>data table notebook</a>'\n",
              "            + ' to learn more about interactive tables.';\n",
              "          element.innerHTML = '';\n",
              "          dataTable['output_type'] = 'display_data';\n",
              "          await google.colab.output.renderOutput(dataTable, element);\n",
              "          const docLink = document.createElement('div');\n",
              "          docLink.innerHTML = docLinkHtml;\n",
              "          element.appendChild(docLink);\n",
              "        }\n",
              "      </script>\n",
              "    </div>\n",
              "  </div>\n",
              "  "
            ]
          },
          "metadata": {},
          "execution_count": 4
        }
      ]
    },
    {
      "cell_type": "markdown",
      "source": [
        "## **Check Data Type**"
      ],
      "metadata": {
        "id": "Dp1jnzYzdYBZ"
      }
    },
    {
      "cell_type": "code",
      "source": [
        "data_raw.info()"
      ],
      "metadata": {
        "colab": {
          "base_uri": "https://localhost:8080/"
        },
        "id": "xUR5LT1Ac5yr",
        "outputId": "c5ac3365-7074-40a6-dbd5-2951134bd0c6"
      },
      "execution_count": 5,
      "outputs": [
        {
          "output_type": "stream",
          "name": "stdout",
          "text": [
            "<class 'pandas.core.frame.DataFrame'>\n",
            "Int64Index: 186850 entries, 0 to 16634\n",
            "Data columns (total 6 columns):\n",
            " #   Column            Non-Null Count   Dtype \n",
            "---  ------            --------------   ----- \n",
            " 0   Order ID          186305 non-null  object\n",
            " 1   Product           186305 non-null  object\n",
            " 2   Quantity Ordered  186305 non-null  object\n",
            " 3   Price Each        186305 non-null  object\n",
            " 4   Order Date        186305 non-null  object\n",
            " 5   Purchase Address  186305 non-null  object\n",
            "dtypes: object(6)\n",
            "memory usage: 10.0+ MB\n"
          ]
        }
      ]
    },
    {
      "cell_type": "markdown",
      "source": [
        "## **Check Missing Value**"
      ],
      "metadata": {
        "id": "9AiUuQT_d1Sw"
      }
    },
    {
      "cell_type": "code",
      "source": [
        "data_null = data_raw.isnull().sum().reset_index()\n",
        "data_null.columns = ['feature','missing_value']\n",
        "data_null['percentage'] = round((data_null['missing_value']/len(data_raw))*100,2)\n",
        "data_null = data_null.sort_values('percentage', ascending=False).reset_index(drop=True)\n",
        "data_null = data_null[data_null['percentage']>0]\n",
        "data_null"
      ],
      "metadata": {
        "colab": {
          "base_uri": "https://localhost:8080/",
          "height": 237
        },
        "id": "xvmyGzSRfw0u",
        "outputId": "f65a826f-28fc-4b1c-8957-9e235f34b698"
      },
      "execution_count": 6,
      "outputs": [
        {
          "output_type": "execute_result",
          "data": {
            "text/plain": [
              "            feature  missing_value  percentage\n",
              "0          Order ID            545        0.29\n",
              "1           Product            545        0.29\n",
              "2  Quantity Ordered            545        0.29\n",
              "3        Price Each            545        0.29\n",
              "4        Order Date            545        0.29\n",
              "5  Purchase Address            545        0.29"
            ],
            "text/html": [
              "\n",
              "  <div id=\"df-eec04a0d-6637-495e-b796-17d828b6f91e\">\n",
              "    <div class=\"colab-df-container\">\n",
              "      <div>\n",
              "<style scoped>\n",
              "    .dataframe tbody tr th:only-of-type {\n",
              "        vertical-align: middle;\n",
              "    }\n",
              "\n",
              "    .dataframe tbody tr th {\n",
              "        vertical-align: top;\n",
              "    }\n",
              "\n",
              "    .dataframe thead th {\n",
              "        text-align: right;\n",
              "    }\n",
              "</style>\n",
              "<table border=\"1\" class=\"dataframe\">\n",
              "  <thead>\n",
              "    <tr style=\"text-align: right;\">\n",
              "      <th></th>\n",
              "      <th>feature</th>\n",
              "      <th>missing_value</th>\n",
              "      <th>percentage</th>\n",
              "    </tr>\n",
              "  </thead>\n",
              "  <tbody>\n",
              "    <tr>\n",
              "      <th>0</th>\n",
              "      <td>Order ID</td>\n",
              "      <td>545</td>\n",
              "      <td>0.29</td>\n",
              "    </tr>\n",
              "    <tr>\n",
              "      <th>1</th>\n",
              "      <td>Product</td>\n",
              "      <td>545</td>\n",
              "      <td>0.29</td>\n",
              "    </tr>\n",
              "    <tr>\n",
              "      <th>2</th>\n",
              "      <td>Quantity Ordered</td>\n",
              "      <td>545</td>\n",
              "      <td>0.29</td>\n",
              "    </tr>\n",
              "    <tr>\n",
              "      <th>3</th>\n",
              "      <td>Price Each</td>\n",
              "      <td>545</td>\n",
              "      <td>0.29</td>\n",
              "    </tr>\n",
              "    <tr>\n",
              "      <th>4</th>\n",
              "      <td>Order Date</td>\n",
              "      <td>545</td>\n",
              "      <td>0.29</td>\n",
              "    </tr>\n",
              "    <tr>\n",
              "      <th>5</th>\n",
              "      <td>Purchase Address</td>\n",
              "      <td>545</td>\n",
              "      <td>0.29</td>\n",
              "    </tr>\n",
              "  </tbody>\n",
              "</table>\n",
              "</div>\n",
              "      <button class=\"colab-df-convert\" onclick=\"convertToInteractive('df-eec04a0d-6637-495e-b796-17d828b6f91e')\"\n",
              "              title=\"Convert this dataframe to an interactive table.\"\n",
              "              style=\"display:none;\">\n",
              "        \n",
              "  <svg xmlns=\"http://www.w3.org/2000/svg\" height=\"24px\"viewBox=\"0 0 24 24\"\n",
              "       width=\"24px\">\n",
              "    <path d=\"M0 0h24v24H0V0z\" fill=\"none\"/>\n",
              "    <path d=\"M18.56 5.44l.94 2.06.94-2.06 2.06-.94-2.06-.94-.94-2.06-.94 2.06-2.06.94zm-11 1L8.5 8.5l.94-2.06 2.06-.94-2.06-.94L8.5 2.5l-.94 2.06-2.06.94zm10 10l.94 2.06.94-2.06 2.06-.94-2.06-.94-.94-2.06-.94 2.06-2.06.94z\"/><path d=\"M17.41 7.96l-1.37-1.37c-.4-.4-.92-.59-1.43-.59-.52 0-1.04.2-1.43.59L10.3 9.45l-7.72 7.72c-.78.78-.78 2.05 0 2.83L4 21.41c.39.39.9.59 1.41.59.51 0 1.02-.2 1.41-.59l7.78-7.78 2.81-2.81c.8-.78.8-2.07 0-2.86zM5.41 20L4 18.59l7.72-7.72 1.47 1.35L5.41 20z\"/>\n",
              "  </svg>\n",
              "      </button>\n",
              "      \n",
              "  <style>\n",
              "    .colab-df-container {\n",
              "      display:flex;\n",
              "      flex-wrap:wrap;\n",
              "      gap: 12px;\n",
              "    }\n",
              "\n",
              "    .colab-df-convert {\n",
              "      background-color: #E8F0FE;\n",
              "      border: none;\n",
              "      border-radius: 50%;\n",
              "      cursor: pointer;\n",
              "      display: none;\n",
              "      fill: #1967D2;\n",
              "      height: 32px;\n",
              "      padding: 0 0 0 0;\n",
              "      width: 32px;\n",
              "    }\n",
              "\n",
              "    .colab-df-convert:hover {\n",
              "      background-color: #E2EBFA;\n",
              "      box-shadow: 0px 1px 2px rgba(60, 64, 67, 0.3), 0px 1px 3px 1px rgba(60, 64, 67, 0.15);\n",
              "      fill: #174EA6;\n",
              "    }\n",
              "\n",
              "    [theme=dark] .colab-df-convert {\n",
              "      background-color: #3B4455;\n",
              "      fill: #D2E3FC;\n",
              "    }\n",
              "\n",
              "    [theme=dark] .colab-df-convert:hover {\n",
              "      background-color: #434B5C;\n",
              "      box-shadow: 0px 1px 3px 1px rgba(0, 0, 0, 0.15);\n",
              "      filter: drop-shadow(0px 1px 2px rgba(0, 0, 0, 0.3));\n",
              "      fill: #FFFFFF;\n",
              "    }\n",
              "  </style>\n",
              "\n",
              "      <script>\n",
              "        const buttonEl =\n",
              "          document.querySelector('#df-eec04a0d-6637-495e-b796-17d828b6f91e button.colab-df-convert');\n",
              "        buttonEl.style.display =\n",
              "          google.colab.kernel.accessAllowed ? 'block' : 'none';\n",
              "\n",
              "        async function convertToInteractive(key) {\n",
              "          const element = document.querySelector('#df-eec04a0d-6637-495e-b796-17d828b6f91e');\n",
              "          const dataTable =\n",
              "            await google.colab.kernel.invokeFunction('convertToInteractive',\n",
              "                                                     [key], {});\n",
              "          if (!dataTable) return;\n",
              "\n",
              "          const docLinkHtml = 'Like what you see? Visit the ' +\n",
              "            '<a target=\"_blank\" href=https://colab.research.google.com/notebooks/data_table.ipynb>data table notebook</a>'\n",
              "            + ' to learn more about interactive tables.';\n",
              "          element.innerHTML = '';\n",
              "          dataTable['output_type'] = 'display_data';\n",
              "          await google.colab.output.renderOutput(dataTable, element);\n",
              "          const docLink = document.createElement('div');\n",
              "          docLink.innerHTML = docLinkHtml;\n",
              "          element.appendChild(docLink);\n",
              "        }\n",
              "      </script>\n",
              "    </div>\n",
              "  </div>\n",
              "  "
            ]
          },
          "metadata": {},
          "execution_count": 6
        }
      ]
    },
    {
      "cell_type": "markdown",
      "source": [
        "## **Check Duplicated Value** "
      ],
      "metadata": {
        "id": "X-P6eLPFd6ku"
      }
    },
    {
      "cell_type": "code",
      "source": [
        "print('Total of data duplicated :', data_raw.duplicated().sum(), '\\n')\n",
        "data_raw[data_raw.duplicated()].sample(10)"
      ],
      "metadata": {
        "id": "K6OvMgmbFWB1",
        "colab": {
          "base_uri": "https://localhost:8080/",
          "height": 397
        },
        "outputId": "a5bb34a6-9335-4716-f80b-a2e46ef1a92f"
      },
      "execution_count": 7,
      "outputs": [
        {
          "output_type": "stream",
          "name": "stdout",
          "text": [
            "Total of data duplicated : 1162 \n",
            "\n"
          ]
        },
        {
          "output_type": "execute_result",
          "data": {
            "text/plain": [
              "       Order ID               Product  Quantity Ordered  Price Each  \\\n",
              "9928        NaN                   NaN               NaN         NaN   \n",
              "3297        NaN                   NaN               NaN         NaN   \n",
              "1291   Order ID               Product  Quantity Ordered  Price Each   \n",
              "876         NaN                   NaN               NaN         NaN   \n",
              "8321     230857  USB-C Charging Cable                 1       11.95   \n",
              "1719        NaN                   NaN               NaN         NaN   \n",
              "4173     240682      27in FHD Monitor                 1      149.99   \n",
              "8565        NaN                   NaN               NaN         NaN   \n",
              "20134       NaN                   NaN               NaN         NaN   \n",
              "6204   Order ID               Product  Quantity Ordered  Price Each   \n",
              "\n",
              "           Order Date                      Purchase Address  \n",
              "9928              NaN                                   NaN  \n",
              "3297              NaN                                   NaN  \n",
              "1291       Order Date                      Purchase Address  \n",
              "876               NaN                                   NaN  \n",
              "8321   07/18/19 12:21  367 Meadow St, Los Angeles, CA 90001  \n",
              "1719              NaN                                   NaN  \n",
              "4173   08/12/19 10:51    869 Jefferson St, Austin, TX 73301  \n",
              "8565              NaN                                   NaN  \n",
              "20134             NaN                                   NaN  \n",
              "6204       Order Date                      Purchase Address  "
            ],
            "text/html": [
              "\n",
              "  <div id=\"df-2cd48ebd-5407-438f-8a77-a8f0a5b5d217\">\n",
              "    <div class=\"colab-df-container\">\n",
              "      <div>\n",
              "<style scoped>\n",
              "    .dataframe tbody tr th:only-of-type {\n",
              "        vertical-align: middle;\n",
              "    }\n",
              "\n",
              "    .dataframe tbody tr th {\n",
              "        vertical-align: top;\n",
              "    }\n",
              "\n",
              "    .dataframe thead th {\n",
              "        text-align: right;\n",
              "    }\n",
              "</style>\n",
              "<table border=\"1\" class=\"dataframe\">\n",
              "  <thead>\n",
              "    <tr style=\"text-align: right;\">\n",
              "      <th></th>\n",
              "      <th>Order ID</th>\n",
              "      <th>Product</th>\n",
              "      <th>Quantity Ordered</th>\n",
              "      <th>Price Each</th>\n",
              "      <th>Order Date</th>\n",
              "      <th>Purchase Address</th>\n",
              "    </tr>\n",
              "  </thead>\n",
              "  <tbody>\n",
              "    <tr>\n",
              "      <th>9928</th>\n",
              "      <td>NaN</td>\n",
              "      <td>NaN</td>\n",
              "      <td>NaN</td>\n",
              "      <td>NaN</td>\n",
              "      <td>NaN</td>\n",
              "      <td>NaN</td>\n",
              "    </tr>\n",
              "    <tr>\n",
              "      <th>3297</th>\n",
              "      <td>NaN</td>\n",
              "      <td>NaN</td>\n",
              "      <td>NaN</td>\n",
              "      <td>NaN</td>\n",
              "      <td>NaN</td>\n",
              "      <td>NaN</td>\n",
              "    </tr>\n",
              "    <tr>\n",
              "      <th>1291</th>\n",
              "      <td>Order ID</td>\n",
              "      <td>Product</td>\n",
              "      <td>Quantity Ordered</td>\n",
              "      <td>Price Each</td>\n",
              "      <td>Order Date</td>\n",
              "      <td>Purchase Address</td>\n",
              "    </tr>\n",
              "    <tr>\n",
              "      <th>876</th>\n",
              "      <td>NaN</td>\n",
              "      <td>NaN</td>\n",
              "      <td>NaN</td>\n",
              "      <td>NaN</td>\n",
              "      <td>NaN</td>\n",
              "      <td>NaN</td>\n",
              "    </tr>\n",
              "    <tr>\n",
              "      <th>8321</th>\n",
              "      <td>230857</td>\n",
              "      <td>USB-C Charging Cable</td>\n",
              "      <td>1</td>\n",
              "      <td>11.95</td>\n",
              "      <td>07/18/19 12:21</td>\n",
              "      <td>367 Meadow St, Los Angeles, CA 90001</td>\n",
              "    </tr>\n",
              "    <tr>\n",
              "      <th>1719</th>\n",
              "      <td>NaN</td>\n",
              "      <td>NaN</td>\n",
              "      <td>NaN</td>\n",
              "      <td>NaN</td>\n",
              "      <td>NaN</td>\n",
              "      <td>NaN</td>\n",
              "    </tr>\n",
              "    <tr>\n",
              "      <th>4173</th>\n",
              "      <td>240682</td>\n",
              "      <td>27in FHD Monitor</td>\n",
              "      <td>1</td>\n",
              "      <td>149.99</td>\n",
              "      <td>08/12/19 10:51</td>\n",
              "      <td>869 Jefferson St, Austin, TX 73301</td>\n",
              "    </tr>\n",
              "    <tr>\n",
              "      <th>8565</th>\n",
              "      <td>NaN</td>\n",
              "      <td>NaN</td>\n",
              "      <td>NaN</td>\n",
              "      <td>NaN</td>\n",
              "      <td>NaN</td>\n",
              "      <td>NaN</td>\n",
              "    </tr>\n",
              "    <tr>\n",
              "      <th>20134</th>\n",
              "      <td>NaN</td>\n",
              "      <td>NaN</td>\n",
              "      <td>NaN</td>\n",
              "      <td>NaN</td>\n",
              "      <td>NaN</td>\n",
              "      <td>NaN</td>\n",
              "    </tr>\n",
              "    <tr>\n",
              "      <th>6204</th>\n",
              "      <td>Order ID</td>\n",
              "      <td>Product</td>\n",
              "      <td>Quantity Ordered</td>\n",
              "      <td>Price Each</td>\n",
              "      <td>Order Date</td>\n",
              "      <td>Purchase Address</td>\n",
              "    </tr>\n",
              "  </tbody>\n",
              "</table>\n",
              "</div>\n",
              "      <button class=\"colab-df-convert\" onclick=\"convertToInteractive('df-2cd48ebd-5407-438f-8a77-a8f0a5b5d217')\"\n",
              "              title=\"Convert this dataframe to an interactive table.\"\n",
              "              style=\"display:none;\">\n",
              "        \n",
              "  <svg xmlns=\"http://www.w3.org/2000/svg\" height=\"24px\"viewBox=\"0 0 24 24\"\n",
              "       width=\"24px\">\n",
              "    <path d=\"M0 0h24v24H0V0z\" fill=\"none\"/>\n",
              "    <path d=\"M18.56 5.44l.94 2.06.94-2.06 2.06-.94-2.06-.94-.94-2.06-.94 2.06-2.06.94zm-11 1L8.5 8.5l.94-2.06 2.06-.94-2.06-.94L8.5 2.5l-.94 2.06-2.06.94zm10 10l.94 2.06.94-2.06 2.06-.94-2.06-.94-.94-2.06-.94 2.06-2.06.94z\"/><path d=\"M17.41 7.96l-1.37-1.37c-.4-.4-.92-.59-1.43-.59-.52 0-1.04.2-1.43.59L10.3 9.45l-7.72 7.72c-.78.78-.78 2.05 0 2.83L4 21.41c.39.39.9.59 1.41.59.51 0 1.02-.2 1.41-.59l7.78-7.78 2.81-2.81c.8-.78.8-2.07 0-2.86zM5.41 20L4 18.59l7.72-7.72 1.47 1.35L5.41 20z\"/>\n",
              "  </svg>\n",
              "      </button>\n",
              "      \n",
              "  <style>\n",
              "    .colab-df-container {\n",
              "      display:flex;\n",
              "      flex-wrap:wrap;\n",
              "      gap: 12px;\n",
              "    }\n",
              "\n",
              "    .colab-df-convert {\n",
              "      background-color: #E8F0FE;\n",
              "      border: none;\n",
              "      border-radius: 50%;\n",
              "      cursor: pointer;\n",
              "      display: none;\n",
              "      fill: #1967D2;\n",
              "      height: 32px;\n",
              "      padding: 0 0 0 0;\n",
              "      width: 32px;\n",
              "    }\n",
              "\n",
              "    .colab-df-convert:hover {\n",
              "      background-color: #E2EBFA;\n",
              "      box-shadow: 0px 1px 2px rgba(60, 64, 67, 0.3), 0px 1px 3px 1px rgba(60, 64, 67, 0.15);\n",
              "      fill: #174EA6;\n",
              "    }\n",
              "\n",
              "    [theme=dark] .colab-df-convert {\n",
              "      background-color: #3B4455;\n",
              "      fill: #D2E3FC;\n",
              "    }\n",
              "\n",
              "    [theme=dark] .colab-df-convert:hover {\n",
              "      background-color: #434B5C;\n",
              "      box-shadow: 0px 1px 3px 1px rgba(0, 0, 0, 0.15);\n",
              "      filter: drop-shadow(0px 1px 2px rgba(0, 0, 0, 0.3));\n",
              "      fill: #FFFFFF;\n",
              "    }\n",
              "  </style>\n",
              "\n",
              "      <script>\n",
              "        const buttonEl =\n",
              "          document.querySelector('#df-2cd48ebd-5407-438f-8a77-a8f0a5b5d217 button.colab-df-convert');\n",
              "        buttonEl.style.display =\n",
              "          google.colab.kernel.accessAllowed ? 'block' : 'none';\n",
              "\n",
              "        async function convertToInteractive(key) {\n",
              "          const element = document.querySelector('#df-2cd48ebd-5407-438f-8a77-a8f0a5b5d217');\n",
              "          const dataTable =\n",
              "            await google.colab.kernel.invokeFunction('convertToInteractive',\n",
              "                                                     [key], {});\n",
              "          if (!dataTable) return;\n",
              "\n",
              "          const docLinkHtml = 'Like what you see? Visit the ' +\n",
              "            '<a target=\"_blank\" href=https://colab.research.google.com/notebooks/data_table.ipynb>data table notebook</a>'\n",
              "            + ' to learn more about interactive tables.';\n",
              "          element.innerHTML = '';\n",
              "          dataTable['output_type'] = 'display_data';\n",
              "          await google.colab.output.renderOutput(dataTable, element);\n",
              "          const docLink = document.createElement('div');\n",
              "          docLink.innerHTML = docLinkHtml;\n",
              "          element.appendChild(docLink);\n",
              "        }\n",
              "      </script>\n",
              "    </div>\n",
              "  </div>\n",
              "  "
            ]
          },
          "metadata": {},
          "execution_count": 7
        }
      ]
    },
    {
      "cell_type": "markdown",
      "source": [
        "## **Observation**"
      ],
      "metadata": {
        "id": "RmFr849reeCE"
      }
    },
    {
      "cell_type": "markdown",
      "source": [
        "From Dataset, we know that:\n",
        "\n",
        "1. Several columns, such as `Quantity Ordered` , `Price Each` , and `Order Date` has an **incorrect data type**.\n",
        "\n",
        "2. There are **missing values**, about **0.29%** of total data.\n",
        "\n",
        "3. There are **duplicate values**, about 1162 rows of total data.\n",
        "\n",
        "What to do next:\n",
        "\n",
        "1. Delete rows that contain missing values.\n",
        "\n",
        "2. Remove duplicate data.\n",
        "\n",
        "3. Change the data type that does not match.\n",
        "\n",
        "4. Extract year, month, and time data from columns `Order Date`.\n",
        "\n",
        "5. Extract city data from column `Purchase Address`.\n",
        "\n",
        "6. Extract total sales from columns `Quantity Ordered` and `Price Each`."
      ],
      "metadata": {
        "id": "mjcCctH1egP5"
      }
    },
    {
      "cell_type": "markdown",
      "source": [
        "# C. Pre-Processing"
      ],
      "metadata": {
        "id": "GH8kJQP7h5sb"
      }
    },
    {
      "cell_type": "code",
      "source": [
        "data = data_raw.copy()"
      ],
      "metadata": {
        "id": "AMa8uugchmMB"
      },
      "execution_count": 8,
      "outputs": []
    },
    {
      "cell_type": "markdown",
      "source": [
        "## **Handling Missing Value**"
      ],
      "metadata": {
        "id": "jg6q1uHQjmjx"
      }
    },
    {
      "cell_type": "markdown",
      "source": [
        "Deleted data rows that have missing values, because the amount of missing data is very small, which is 0.29% of the total data."
      ],
      "metadata": {
        "id": "N1_z0nY8kDsQ"
      }
    },
    {
      "cell_type": "code",
      "source": [
        "data = data.dropna()\n",
        "data.isna().sum()"
      ],
      "metadata": {
        "colab": {
          "base_uri": "https://localhost:8080/"
        },
        "id": "PKuMlMqijl3e",
        "outputId": "2f34be03-3dc6-45b5-8125-9c2dec405d0c"
      },
      "execution_count": 9,
      "outputs": [
        {
          "output_type": "execute_result",
          "data": {
            "text/plain": [
              "Order ID            0\n",
              "Product             0\n",
              "Quantity Ordered    0\n",
              "Price Each          0\n",
              "Order Date          0\n",
              "Purchase Address    0\n",
              "dtype: int64"
            ]
          },
          "metadata": {},
          "execution_count": 9
        }
      ]
    },
    {
      "cell_type": "markdown",
      "source": [
        "## **Handling Duplicated Value**"
      ],
      "metadata": {
        "id": "lVU7YQ5KkvtN"
      }
    },
    {
      "cell_type": "markdown",
      "source": [
        "Duplicate data is deleted, so there is no double stored.\n"
      ],
      "metadata": {
        "id": "0pt-HDWzlD1-"
      }
    },
    {
      "cell_type": "code",
      "source": [
        "data = data.drop_duplicates()\n",
        "print('Total of data duplicated after Handled :', data.duplicated().sum(), '\\n')"
      ],
      "metadata": {
        "colab": {
          "base_uri": "https://localhost:8080/"
        },
        "id": "tLtGhIR7FGVX",
        "outputId": "c783376b-7c84-4b91-b47d-231cc0ef6707"
      },
      "execution_count": 10,
      "outputs": [
        {
          "output_type": "stream",
          "name": "stdout",
          "text": [
            "Total of data duplicated after Handled : 0 \n",
            "\n"
          ]
        }
      ]
    },
    {
      "cell_type": "markdown",
      "source": [
        "## Change the data type"
      ],
      "metadata": {
        "id": "6ZmUbgozFCjF"
      }
    },
    {
      "cell_type": "code",
      "source": [
        "data = data[data['Order Date'].str[0:2] != 'Or']\n",
        "\n",
        "data['Order ID'] = data['Order ID'].astype(int)\n",
        "data['Quantity Ordered'] = data['Quantity Ordered'].astype(int)\n",
        "data['Price Each'] = data['Price Each'].astype(float)\n",
        "data['Order Date'] = pd.to_datetime(data['Order Date'])"
      ],
      "metadata": {
        "colab": {
          "base_uri": "https://localhost:8080/"
        },
        "id": "SRXf6yW7o5mq",
        "outputId": "c160e93a-b265-4a28-a001-5ccd568cf52e"
      },
      "execution_count": 11,
      "outputs": [
        {
          "output_type": "stream",
          "name": "stderr",
          "text": [
            "/usr/local/lib/python3.7/dist-packages/ipykernel_launcher.py:3: SettingWithCopyWarning: \n",
            "A value is trying to be set on a copy of a slice from a DataFrame.\n",
            "Try using .loc[row_indexer,col_indexer] = value instead\n",
            "\n",
            "See the caveats in the documentation: https://pandas.pydata.org/pandas-docs/stable/user_guide/indexing.html#returning-a-view-versus-a-copy\n",
            "  This is separate from the ipykernel package so we can avoid doing imports until\n",
            "/usr/local/lib/python3.7/dist-packages/ipykernel_launcher.py:4: SettingWithCopyWarning: \n",
            "A value is trying to be set on a copy of a slice from a DataFrame.\n",
            "Try using .loc[row_indexer,col_indexer] = value instead\n",
            "\n",
            "See the caveats in the documentation: https://pandas.pydata.org/pandas-docs/stable/user_guide/indexing.html#returning-a-view-versus-a-copy\n",
            "  after removing the cwd from sys.path.\n",
            "/usr/local/lib/python3.7/dist-packages/ipykernel_launcher.py:5: SettingWithCopyWarning: \n",
            "A value is trying to be set on a copy of a slice from a DataFrame.\n",
            "Try using .loc[row_indexer,col_indexer] = value instead\n",
            "\n",
            "See the caveats in the documentation: https://pandas.pydata.org/pandas-docs/stable/user_guide/indexing.html#returning-a-view-versus-a-copy\n",
            "  \"\"\"\n"
          ]
        }
      ]
    },
    {
      "cell_type": "code",
      "source": [
        "data.info()"
      ],
      "metadata": {
        "colab": {
          "base_uri": "https://localhost:8080/"
        },
        "id": "9XLv0qFXvUXw",
        "outputId": "9942a9e2-89cb-4757-9788-12b534304e8d"
      },
      "execution_count": 12,
      "outputs": [
        {
          "output_type": "stream",
          "name": "stdout",
          "text": [
            "<class 'pandas.core.frame.DataFrame'>\n",
            "Int64Index: 185686 entries, 0 to 16634\n",
            "Data columns (total 6 columns):\n",
            " #   Column            Non-Null Count   Dtype         \n",
            "---  ------            --------------   -----         \n",
            " 0   Order ID          185686 non-null  int64         \n",
            " 1   Product           185686 non-null  object        \n",
            " 2   Quantity Ordered  185686 non-null  int64         \n",
            " 3   Price Each        185686 non-null  float64       \n",
            " 4   Order Date        185686 non-null  datetime64[ns]\n",
            " 5   Purchase Address  185686 non-null  object        \n",
            "dtypes: datetime64[ns](1), float64(1), int64(2), object(2)\n",
            "memory usage: 9.9+ MB\n"
          ]
        }
      ]
    },
    {
      "cell_type": "markdown",
      "source": [
        "## **Extract Data**"
      ],
      "metadata": {
        "id": "WwQldyODnN2t"
      }
    },
    {
      "cell_type": "code",
      "source": [
        "def extract_data(DataFrame):\n",
        "\n",
        "  DataFrame['Year'] = pd.DatetimeIndex(DataFrame['Order Date']).year\n",
        "\n",
        "  DataFrame['Month'] = pd.DatetimeIndex(DataFrame['Order Date']).month\n",
        "\n",
        "  DataFrame['Hour'] = pd.DatetimeIndex(DataFrame['Order Date']).hour\n",
        "\n",
        "  DataFrame['Total Sales'] = DataFrame['Quantity Ordered'] * DataFrame['Price Each']\n",
        "\n",
        "  return DataFrame"
      ],
      "metadata": {
        "id": "0PvdfOfSoEmv"
      },
      "execution_count": 13,
      "outputs": []
    },
    {
      "cell_type": "code",
      "source": [
        "data = extract_data(data)\n",
        "\n",
        "city = []\n",
        "for index, columns in data.iterrows():\n",
        "  split_city = columns['Purchase Address'].split(', ')[1]\n",
        "  city.append(split_city)\n",
        "\n",
        "data['City'] = city\n",
        "\n",
        "data.head()"
      ],
      "metadata": {
        "id": "OCFA4tULwb8W",
        "colab": {
          "base_uri": "https://localhost:8080/",
          "height": 354
        },
        "outputId": "f7593020-4e8e-40f6-f032-3d6ee11cc099"
      },
      "execution_count": 14,
      "outputs": [
        {
          "output_type": "execute_result",
          "data": {
            "text/plain": [
              "   Order ID                   Product  Quantity Ordered  Price Each  \\\n",
              "0    141234                    iPhone                 1      700.00   \n",
              "1    141235  Lightning Charging Cable                 1       14.95   \n",
              "2    141236          Wired Headphones                 2       11.99   \n",
              "3    141237          27in FHD Monitor                 1      149.99   \n",
              "4    141238          Wired Headphones                 1       11.99   \n",
              "\n",
              "           Order Date                       Purchase Address  Year  Month  \\\n",
              "0 2019-01-22 21:25:00        944 Walnut St, Boston, MA 02215  2019      1   \n",
              "1 2019-01-28 14:15:00       185 Maple St, Portland, OR 97035  2019      1   \n",
              "2 2019-01-17 13:33:00  538 Adams St, San Francisco, CA 94016  2019      1   \n",
              "3 2019-01-05 20:33:00     738 10th St, Los Angeles, CA 90001  2019      1   \n",
              "4 2019-01-25 11:59:00          387 10th St, Austin, TX 73301  2019      1   \n",
              "\n",
              "   Hour  Total Sales           City  \n",
              "0    21       700.00         Boston  \n",
              "1    14        14.95       Portland  \n",
              "2    13        23.98  San Francisco  \n",
              "3    20       149.99    Los Angeles  \n",
              "4    11        11.99         Austin  "
            ],
            "text/html": [
              "\n",
              "  <div id=\"df-53a861b1-8caf-467b-a3e8-c118819366fb\">\n",
              "    <div class=\"colab-df-container\">\n",
              "      <div>\n",
              "<style scoped>\n",
              "    .dataframe tbody tr th:only-of-type {\n",
              "        vertical-align: middle;\n",
              "    }\n",
              "\n",
              "    .dataframe tbody tr th {\n",
              "        vertical-align: top;\n",
              "    }\n",
              "\n",
              "    .dataframe thead th {\n",
              "        text-align: right;\n",
              "    }\n",
              "</style>\n",
              "<table border=\"1\" class=\"dataframe\">\n",
              "  <thead>\n",
              "    <tr style=\"text-align: right;\">\n",
              "      <th></th>\n",
              "      <th>Order ID</th>\n",
              "      <th>Product</th>\n",
              "      <th>Quantity Ordered</th>\n",
              "      <th>Price Each</th>\n",
              "      <th>Order Date</th>\n",
              "      <th>Purchase Address</th>\n",
              "      <th>Year</th>\n",
              "      <th>Month</th>\n",
              "      <th>Hour</th>\n",
              "      <th>Total Sales</th>\n",
              "      <th>City</th>\n",
              "    </tr>\n",
              "  </thead>\n",
              "  <tbody>\n",
              "    <tr>\n",
              "      <th>0</th>\n",
              "      <td>141234</td>\n",
              "      <td>iPhone</td>\n",
              "      <td>1</td>\n",
              "      <td>700.00</td>\n",
              "      <td>2019-01-22 21:25:00</td>\n",
              "      <td>944 Walnut St, Boston, MA 02215</td>\n",
              "      <td>2019</td>\n",
              "      <td>1</td>\n",
              "      <td>21</td>\n",
              "      <td>700.00</td>\n",
              "      <td>Boston</td>\n",
              "    </tr>\n",
              "    <tr>\n",
              "      <th>1</th>\n",
              "      <td>141235</td>\n",
              "      <td>Lightning Charging Cable</td>\n",
              "      <td>1</td>\n",
              "      <td>14.95</td>\n",
              "      <td>2019-01-28 14:15:00</td>\n",
              "      <td>185 Maple St, Portland, OR 97035</td>\n",
              "      <td>2019</td>\n",
              "      <td>1</td>\n",
              "      <td>14</td>\n",
              "      <td>14.95</td>\n",
              "      <td>Portland</td>\n",
              "    </tr>\n",
              "    <tr>\n",
              "      <th>2</th>\n",
              "      <td>141236</td>\n",
              "      <td>Wired Headphones</td>\n",
              "      <td>2</td>\n",
              "      <td>11.99</td>\n",
              "      <td>2019-01-17 13:33:00</td>\n",
              "      <td>538 Adams St, San Francisco, CA 94016</td>\n",
              "      <td>2019</td>\n",
              "      <td>1</td>\n",
              "      <td>13</td>\n",
              "      <td>23.98</td>\n",
              "      <td>San Francisco</td>\n",
              "    </tr>\n",
              "    <tr>\n",
              "      <th>3</th>\n",
              "      <td>141237</td>\n",
              "      <td>27in FHD Monitor</td>\n",
              "      <td>1</td>\n",
              "      <td>149.99</td>\n",
              "      <td>2019-01-05 20:33:00</td>\n",
              "      <td>738 10th St, Los Angeles, CA 90001</td>\n",
              "      <td>2019</td>\n",
              "      <td>1</td>\n",
              "      <td>20</td>\n",
              "      <td>149.99</td>\n",
              "      <td>Los Angeles</td>\n",
              "    </tr>\n",
              "    <tr>\n",
              "      <th>4</th>\n",
              "      <td>141238</td>\n",
              "      <td>Wired Headphones</td>\n",
              "      <td>1</td>\n",
              "      <td>11.99</td>\n",
              "      <td>2019-01-25 11:59:00</td>\n",
              "      <td>387 10th St, Austin, TX 73301</td>\n",
              "      <td>2019</td>\n",
              "      <td>1</td>\n",
              "      <td>11</td>\n",
              "      <td>11.99</td>\n",
              "      <td>Austin</td>\n",
              "    </tr>\n",
              "  </tbody>\n",
              "</table>\n",
              "</div>\n",
              "      <button class=\"colab-df-convert\" onclick=\"convertToInteractive('df-53a861b1-8caf-467b-a3e8-c118819366fb')\"\n",
              "              title=\"Convert this dataframe to an interactive table.\"\n",
              "              style=\"display:none;\">\n",
              "        \n",
              "  <svg xmlns=\"http://www.w3.org/2000/svg\" height=\"24px\"viewBox=\"0 0 24 24\"\n",
              "       width=\"24px\">\n",
              "    <path d=\"M0 0h24v24H0V0z\" fill=\"none\"/>\n",
              "    <path d=\"M18.56 5.44l.94 2.06.94-2.06 2.06-.94-2.06-.94-.94-2.06-.94 2.06-2.06.94zm-11 1L8.5 8.5l.94-2.06 2.06-.94-2.06-.94L8.5 2.5l-.94 2.06-2.06.94zm10 10l.94 2.06.94-2.06 2.06-.94-2.06-.94-.94-2.06-.94 2.06-2.06.94z\"/><path d=\"M17.41 7.96l-1.37-1.37c-.4-.4-.92-.59-1.43-.59-.52 0-1.04.2-1.43.59L10.3 9.45l-7.72 7.72c-.78.78-.78 2.05 0 2.83L4 21.41c.39.39.9.59 1.41.59.51 0 1.02-.2 1.41-.59l7.78-7.78 2.81-2.81c.8-.78.8-2.07 0-2.86zM5.41 20L4 18.59l7.72-7.72 1.47 1.35L5.41 20z\"/>\n",
              "  </svg>\n",
              "      </button>\n",
              "      \n",
              "  <style>\n",
              "    .colab-df-container {\n",
              "      display:flex;\n",
              "      flex-wrap:wrap;\n",
              "      gap: 12px;\n",
              "    }\n",
              "\n",
              "    .colab-df-convert {\n",
              "      background-color: #E8F0FE;\n",
              "      border: none;\n",
              "      border-radius: 50%;\n",
              "      cursor: pointer;\n",
              "      display: none;\n",
              "      fill: #1967D2;\n",
              "      height: 32px;\n",
              "      padding: 0 0 0 0;\n",
              "      width: 32px;\n",
              "    }\n",
              "\n",
              "    .colab-df-convert:hover {\n",
              "      background-color: #E2EBFA;\n",
              "      box-shadow: 0px 1px 2px rgba(60, 64, 67, 0.3), 0px 1px 3px 1px rgba(60, 64, 67, 0.15);\n",
              "      fill: #174EA6;\n",
              "    }\n",
              "\n",
              "    [theme=dark] .colab-df-convert {\n",
              "      background-color: #3B4455;\n",
              "      fill: #D2E3FC;\n",
              "    }\n",
              "\n",
              "    [theme=dark] .colab-df-convert:hover {\n",
              "      background-color: #434B5C;\n",
              "      box-shadow: 0px 1px 3px 1px rgba(0, 0, 0, 0.15);\n",
              "      filter: drop-shadow(0px 1px 2px rgba(0, 0, 0, 0.3));\n",
              "      fill: #FFFFFF;\n",
              "    }\n",
              "  </style>\n",
              "\n",
              "      <script>\n",
              "        const buttonEl =\n",
              "          document.querySelector('#df-53a861b1-8caf-467b-a3e8-c118819366fb button.colab-df-convert');\n",
              "        buttonEl.style.display =\n",
              "          google.colab.kernel.accessAllowed ? 'block' : 'none';\n",
              "\n",
              "        async function convertToInteractive(key) {\n",
              "          const element = document.querySelector('#df-53a861b1-8caf-467b-a3e8-c118819366fb');\n",
              "          const dataTable =\n",
              "            await google.colab.kernel.invokeFunction('convertToInteractive',\n",
              "                                                     [key], {});\n",
              "          if (!dataTable) return;\n",
              "\n",
              "          const docLinkHtml = 'Like what you see? Visit the ' +\n",
              "            '<a target=\"_blank\" href=https://colab.research.google.com/notebooks/data_table.ipynb>data table notebook</a>'\n",
              "            + ' to learn more about interactive tables.';\n",
              "          element.innerHTML = '';\n",
              "          dataTable['output_type'] = 'display_data';\n",
              "          await google.colab.output.renderOutput(dataTable, element);\n",
              "          const docLink = document.createElement('div');\n",
              "          docLink.innerHTML = docLinkHtml;\n",
              "          element.appendChild(docLink);\n",
              "        }\n",
              "      </script>\n",
              "    </div>\n",
              "  </div>\n",
              "  "
            ]
          },
          "metadata": {},
          "execution_count": 14
        }
      ]
    },
    {
      "cell_type": "markdown",
      "source": [
        "# D. Exploratory Data Analysis"
      ],
      "metadata": {
        "id": "YL4Je33nzSQ7"
      }
    },
    {
      "cell_type": "code",
      "source": [
        "df = data.copy()\n",
        "\n",
        "data[data['Year']!=2019]"
      ],
      "metadata": {
        "colab": {
          "base_uri": "https://localhost:8080/",
          "height": 1000
        },
        "id": "L_3a28z-zTft",
        "outputId": "440569f3-9d2c-4029-8fa1-63550940708e"
      },
      "execution_count": 15,
      "outputs": [
        {
          "output_type": "execute_result",
          "data": {
            "text/plain": [
              "       Order ID                     Product  Quantity Ordered  Price Each  \\\n",
              "1563     297150    Lightning Charging Cable                 1       14.95   \n",
              "2265     297817                      iPhone                 1      700.00   \n",
              "2266     297817    Lightning Charging Cable                 2       14.95   \n",
              "2425     297969                Google Phone                 1      600.00   \n",
              "2806     298344            Wired Headphones                 4       11.99   \n",
              "3553     299049    Apple Airpods Headphones                 1      150.00   \n",
              "3633     299125        USB-C Charging Cable                 1       11.95   \n",
              "4941     300362        USB-C Charging Cable                 1       11.95   \n",
              "5103     300519  Bose SoundSport Headphones                 1       99.99   \n",
              "5104     300519    Lightning Charging Cable                 1       14.95   \n",
              "5355     300759                20in Monitor                 1      109.99   \n",
              "7048     302393    Lightning Charging Cable                 1       14.95   \n",
              "8914     304165      AAA Batteries (4-pack)                 1        2.99   \n",
              "10350    305538    Apple Airpods Headphones                 1      150.00   \n",
              "10667    305840  Bose SoundSport Headphones                 1       99.99   \n",
              "11520    306655             ThinkPad Laptop                 1      999.99   \n",
              "11686    306809          Macbook Pro Laptop                 1     1700.00   \n",
              "11813    306928             ThinkPad Laptop                 1      999.99   \n",
              "12809    307890    Lightning Charging Cable                 1       14.95   \n",
              "13118    308185            27in FHD Monitor                 1      149.99   \n",
              "13262    308322  Bose SoundSport Headphones                 1       99.99   \n",
              "15087    310074    Apple Airpods Headphones                 1      150.00   \n",
              "16445    311386                      iPhone                 1      700.00   \n",
              "16446    311386    Apple Airpods Headphones                 1      150.00   \n",
              "17104    312012            27in FHD Monitor                 1      149.99   \n",
              "17942    312812               Flatscreen TV                 1      300.00   \n",
              "19259    314066        USB-C Charging Cable                 1       11.95   \n",
              "19764    314552      AAA Batteries (4-pack)                 1        2.99   \n",
              "20380    315138      AAA Batteries (4-pack)                 3        2.99   \n",
              "20565    315315      27in 4K Gaming Monitor                 1      389.99   \n",
              "22160    316833             Vareebadd Phone                 1      400.00   \n",
              "22195    316867            27in FHD Monitor                 1      149.99   \n",
              "24742    319308        USB-C Charging Cable                 1       11.95   \n",
              "24804    319366                20in Monitor                 2      109.99   \n",
              "\n",
              "               Order Date                          Purchase Address  Year  \\\n",
              "1563  2020-01-01 00:38:00           427 Wilson St, Dallas, TX 75001  2020   \n",
              "2265  2020-01-01 00:22:00      519 13th St, New York City, NY 10001  2020   \n",
              "2266  2020-01-01 00:22:00      519 13th St, New York City, NY 10001  2020   \n",
              "2425  2020-01-01 00:54:00       542 2nd St, San Francisco, CA 94016  2020   \n",
              "2806  2020-01-01 03:34:00       731 7th St, New York City, NY 10001  2020   \n",
              "3553  2020-01-01 01:17:00   762 Johnson St, San Francisco, CA 94016  2020   \n",
              "3633  2020-01-01 04:21:00   754 Hickory St, New York City, NY 10001  2020   \n",
              "4941  2020-01-01 00:59:00     581 River St, San Francisco, CA 94016  2020   \n",
              "5103  2020-01-01 05:13:00    657 Spruce St, New York City, NY 10001  2020   \n",
              "5104  2020-01-01 05:13:00    657 Spruce St, New York City, NY 10001  2020   \n",
              "5355  2020-01-01 00:14:00              193 5th St, Austin, TX 73301  2020   \n",
              "7048  2020-01-01 00:14:00        108 Jefferson St, Boston, MA 02215  2020   \n",
              "8914  2020-01-01 04:13:00          825 Adams St, Portland, OR 97035  2020   \n",
              "10350 2020-01-01 01:00:00            693 1st St, Portland, OR 97035  2020   \n",
              "10667 2020-01-01 04:54:00     784 River St, San Francisco, CA 94016  2020   \n",
              "11520 2020-01-01 01:46:00     431 Hickory St, Los Angeles, CA 90001  2020   \n",
              "11686 2020-01-01 02:20:00             326 14th St, Dallas, TX 75001  2020   \n",
              "11813 2020-01-01 03:14:00              762 Elm St, Boston, MA 02215  2020   \n",
              "12809 2020-01-01 02:06:00       39 Pine St, New York City, NY 10001  2020   \n",
              "13118 2020-01-01 04:06:00     202 Maple St, San Francisco, CA 94016  2020   \n",
              "13262 2020-01-01 00:24:00    362 Willow St, San Francisco, CA 94016  2020   \n",
              "15087 2020-01-01 01:46:00  636 Lakeview St, San Francisco, CA 94016  2020   \n",
              "16445 2020-01-01 00:10:00      730 Pine St, San Francisco, CA 94016  2020   \n",
              "16446 2020-01-01 00:10:00      730 Pine St, San Francisco, CA 94016  2020   \n",
              "17104 2020-01-01 02:12:00      507 13th St, San Francisco, CA 94016  2020   \n",
              "17942 2020-01-01 01:56:00              129 6th St, Boston, MA 02215  2020   \n",
              "19259 2020-01-01 01:52:00       922 8th St, New York City, NY 10001  2020   \n",
              "19764 2020-01-01 01:47:00       541 4th St, San Francisco, CA 94016  2020   \n",
              "20380 2020-01-01 00:51:00     257 Adams St, New York City, NY 10001  2020   \n",
              "20565 2020-01-01 01:22:00            552 North St, Austin, TX 73301  2020   \n",
              "22160 2020-01-01 02:58:00       378 Elm St, New York City, NY 10001  2020   \n",
              "22195 2020-01-01 01:05:00         137 Madison St, Seattle, WA 98101  2020   \n",
              "24742 2020-01-01 03:13:00              135 8th St, Boston, MA 02215  2020   \n",
              "24804 2020-01-01 00:45:00     746 South St, San Francisco, CA 94016  2020   \n",
              "\n",
              "       Month  Hour  Total Sales           City  \n",
              "1563       1     0        14.95         Dallas  \n",
              "2265       1     0       700.00  New York City  \n",
              "2266       1     0        29.90  New York City  \n",
              "2425       1     0       600.00  San Francisco  \n",
              "2806       1     3        47.96  New York City  \n",
              "3553       1     1       150.00  San Francisco  \n",
              "3633       1     4        11.95  New York City  \n",
              "4941       1     0        11.95  San Francisco  \n",
              "5103       1     5        99.99  New York City  \n",
              "5104       1     5        14.95  New York City  \n",
              "5355       1     0       109.99         Austin  \n",
              "7048       1     0        14.95         Boston  \n",
              "8914       1     4         2.99       Portland  \n",
              "10350      1     1       150.00       Portland  \n",
              "10667      1     4        99.99  San Francisco  \n",
              "11520      1     1       999.99    Los Angeles  \n",
              "11686      1     2      1700.00         Dallas  \n",
              "11813      1     3       999.99         Boston  \n",
              "12809      1     2        14.95  New York City  \n",
              "13118      1     4       149.99  San Francisco  \n",
              "13262      1     0        99.99  San Francisco  \n",
              "15087      1     1       150.00  San Francisco  \n",
              "16445      1     0       700.00  San Francisco  \n",
              "16446      1     0       150.00  San Francisco  \n",
              "17104      1     2       149.99  San Francisco  \n",
              "17942      1     1       300.00         Boston  \n",
              "19259      1     1        11.95  New York City  \n",
              "19764      1     1         2.99  San Francisco  \n",
              "20380      1     0         8.97  New York City  \n",
              "20565      1     1       389.99         Austin  \n",
              "22160      1     2       400.00  New York City  \n",
              "22195      1     1       149.99        Seattle  \n",
              "24742      1     3        11.95         Boston  \n",
              "24804      1     0       219.98  San Francisco  "
            ],
            "text/html": [
              "\n",
              "  <div id=\"df-c5f58909-12b0-432f-aa62-20a53dad241f\">\n",
              "    <div class=\"colab-df-container\">\n",
              "      <div>\n",
              "<style scoped>\n",
              "    .dataframe tbody tr th:only-of-type {\n",
              "        vertical-align: middle;\n",
              "    }\n",
              "\n",
              "    .dataframe tbody tr th {\n",
              "        vertical-align: top;\n",
              "    }\n",
              "\n",
              "    .dataframe thead th {\n",
              "        text-align: right;\n",
              "    }\n",
              "</style>\n",
              "<table border=\"1\" class=\"dataframe\">\n",
              "  <thead>\n",
              "    <tr style=\"text-align: right;\">\n",
              "      <th></th>\n",
              "      <th>Order ID</th>\n",
              "      <th>Product</th>\n",
              "      <th>Quantity Ordered</th>\n",
              "      <th>Price Each</th>\n",
              "      <th>Order Date</th>\n",
              "      <th>Purchase Address</th>\n",
              "      <th>Year</th>\n",
              "      <th>Month</th>\n",
              "      <th>Hour</th>\n",
              "      <th>Total Sales</th>\n",
              "      <th>City</th>\n",
              "    </tr>\n",
              "  </thead>\n",
              "  <tbody>\n",
              "    <tr>\n",
              "      <th>1563</th>\n",
              "      <td>297150</td>\n",
              "      <td>Lightning Charging Cable</td>\n",
              "      <td>1</td>\n",
              "      <td>14.95</td>\n",
              "      <td>2020-01-01 00:38:00</td>\n",
              "      <td>427 Wilson St, Dallas, TX 75001</td>\n",
              "      <td>2020</td>\n",
              "      <td>1</td>\n",
              "      <td>0</td>\n",
              "      <td>14.95</td>\n",
              "      <td>Dallas</td>\n",
              "    </tr>\n",
              "    <tr>\n",
              "      <th>2265</th>\n",
              "      <td>297817</td>\n",
              "      <td>iPhone</td>\n",
              "      <td>1</td>\n",
              "      <td>700.00</td>\n",
              "      <td>2020-01-01 00:22:00</td>\n",
              "      <td>519 13th St, New York City, NY 10001</td>\n",
              "      <td>2020</td>\n",
              "      <td>1</td>\n",
              "      <td>0</td>\n",
              "      <td>700.00</td>\n",
              "      <td>New York City</td>\n",
              "    </tr>\n",
              "    <tr>\n",
              "      <th>2266</th>\n",
              "      <td>297817</td>\n",
              "      <td>Lightning Charging Cable</td>\n",
              "      <td>2</td>\n",
              "      <td>14.95</td>\n",
              "      <td>2020-01-01 00:22:00</td>\n",
              "      <td>519 13th St, New York City, NY 10001</td>\n",
              "      <td>2020</td>\n",
              "      <td>1</td>\n",
              "      <td>0</td>\n",
              "      <td>29.90</td>\n",
              "      <td>New York City</td>\n",
              "    </tr>\n",
              "    <tr>\n",
              "      <th>2425</th>\n",
              "      <td>297969</td>\n",
              "      <td>Google Phone</td>\n",
              "      <td>1</td>\n",
              "      <td>600.00</td>\n",
              "      <td>2020-01-01 00:54:00</td>\n",
              "      <td>542 2nd St, San Francisco, CA 94016</td>\n",
              "      <td>2020</td>\n",
              "      <td>1</td>\n",
              "      <td>0</td>\n",
              "      <td>600.00</td>\n",
              "      <td>San Francisco</td>\n",
              "    </tr>\n",
              "    <tr>\n",
              "      <th>2806</th>\n",
              "      <td>298344</td>\n",
              "      <td>Wired Headphones</td>\n",
              "      <td>4</td>\n",
              "      <td>11.99</td>\n",
              "      <td>2020-01-01 03:34:00</td>\n",
              "      <td>731 7th St, New York City, NY 10001</td>\n",
              "      <td>2020</td>\n",
              "      <td>1</td>\n",
              "      <td>3</td>\n",
              "      <td>47.96</td>\n",
              "      <td>New York City</td>\n",
              "    </tr>\n",
              "    <tr>\n",
              "      <th>3553</th>\n",
              "      <td>299049</td>\n",
              "      <td>Apple Airpods Headphones</td>\n",
              "      <td>1</td>\n",
              "      <td>150.00</td>\n",
              "      <td>2020-01-01 01:17:00</td>\n",
              "      <td>762 Johnson St, San Francisco, CA 94016</td>\n",
              "      <td>2020</td>\n",
              "      <td>1</td>\n",
              "      <td>1</td>\n",
              "      <td>150.00</td>\n",
              "      <td>San Francisco</td>\n",
              "    </tr>\n",
              "    <tr>\n",
              "      <th>3633</th>\n",
              "      <td>299125</td>\n",
              "      <td>USB-C Charging Cable</td>\n",
              "      <td>1</td>\n",
              "      <td>11.95</td>\n",
              "      <td>2020-01-01 04:21:00</td>\n",
              "      <td>754 Hickory St, New York City, NY 10001</td>\n",
              "      <td>2020</td>\n",
              "      <td>1</td>\n",
              "      <td>4</td>\n",
              "      <td>11.95</td>\n",
              "      <td>New York City</td>\n",
              "    </tr>\n",
              "    <tr>\n",
              "      <th>4941</th>\n",
              "      <td>300362</td>\n",
              "      <td>USB-C Charging Cable</td>\n",
              "      <td>1</td>\n",
              "      <td>11.95</td>\n",
              "      <td>2020-01-01 00:59:00</td>\n",
              "      <td>581 River St, San Francisco, CA 94016</td>\n",
              "      <td>2020</td>\n",
              "      <td>1</td>\n",
              "      <td>0</td>\n",
              "      <td>11.95</td>\n",
              "      <td>San Francisco</td>\n",
              "    </tr>\n",
              "    <tr>\n",
              "      <th>5103</th>\n",
              "      <td>300519</td>\n",
              "      <td>Bose SoundSport Headphones</td>\n",
              "      <td>1</td>\n",
              "      <td>99.99</td>\n",
              "      <td>2020-01-01 05:13:00</td>\n",
              "      <td>657 Spruce St, New York City, NY 10001</td>\n",
              "      <td>2020</td>\n",
              "      <td>1</td>\n",
              "      <td>5</td>\n",
              "      <td>99.99</td>\n",
              "      <td>New York City</td>\n",
              "    </tr>\n",
              "    <tr>\n",
              "      <th>5104</th>\n",
              "      <td>300519</td>\n",
              "      <td>Lightning Charging Cable</td>\n",
              "      <td>1</td>\n",
              "      <td>14.95</td>\n",
              "      <td>2020-01-01 05:13:00</td>\n",
              "      <td>657 Spruce St, New York City, NY 10001</td>\n",
              "      <td>2020</td>\n",
              "      <td>1</td>\n",
              "      <td>5</td>\n",
              "      <td>14.95</td>\n",
              "      <td>New York City</td>\n",
              "    </tr>\n",
              "    <tr>\n",
              "      <th>5355</th>\n",
              "      <td>300759</td>\n",
              "      <td>20in Monitor</td>\n",
              "      <td>1</td>\n",
              "      <td>109.99</td>\n",
              "      <td>2020-01-01 00:14:00</td>\n",
              "      <td>193 5th St, Austin, TX 73301</td>\n",
              "      <td>2020</td>\n",
              "      <td>1</td>\n",
              "      <td>0</td>\n",
              "      <td>109.99</td>\n",
              "      <td>Austin</td>\n",
              "    </tr>\n",
              "    <tr>\n",
              "      <th>7048</th>\n",
              "      <td>302393</td>\n",
              "      <td>Lightning Charging Cable</td>\n",
              "      <td>1</td>\n",
              "      <td>14.95</td>\n",
              "      <td>2020-01-01 00:14:00</td>\n",
              "      <td>108 Jefferson St, Boston, MA 02215</td>\n",
              "      <td>2020</td>\n",
              "      <td>1</td>\n",
              "      <td>0</td>\n",
              "      <td>14.95</td>\n",
              "      <td>Boston</td>\n",
              "    </tr>\n",
              "    <tr>\n",
              "      <th>8914</th>\n",
              "      <td>304165</td>\n",
              "      <td>AAA Batteries (4-pack)</td>\n",
              "      <td>1</td>\n",
              "      <td>2.99</td>\n",
              "      <td>2020-01-01 04:13:00</td>\n",
              "      <td>825 Adams St, Portland, OR 97035</td>\n",
              "      <td>2020</td>\n",
              "      <td>1</td>\n",
              "      <td>4</td>\n",
              "      <td>2.99</td>\n",
              "      <td>Portland</td>\n",
              "    </tr>\n",
              "    <tr>\n",
              "      <th>10350</th>\n",
              "      <td>305538</td>\n",
              "      <td>Apple Airpods Headphones</td>\n",
              "      <td>1</td>\n",
              "      <td>150.00</td>\n",
              "      <td>2020-01-01 01:00:00</td>\n",
              "      <td>693 1st St, Portland, OR 97035</td>\n",
              "      <td>2020</td>\n",
              "      <td>1</td>\n",
              "      <td>1</td>\n",
              "      <td>150.00</td>\n",
              "      <td>Portland</td>\n",
              "    </tr>\n",
              "    <tr>\n",
              "      <th>10667</th>\n",
              "      <td>305840</td>\n",
              "      <td>Bose SoundSport Headphones</td>\n",
              "      <td>1</td>\n",
              "      <td>99.99</td>\n",
              "      <td>2020-01-01 04:54:00</td>\n",
              "      <td>784 River St, San Francisco, CA 94016</td>\n",
              "      <td>2020</td>\n",
              "      <td>1</td>\n",
              "      <td>4</td>\n",
              "      <td>99.99</td>\n",
              "      <td>San Francisco</td>\n",
              "    </tr>\n",
              "    <tr>\n",
              "      <th>11520</th>\n",
              "      <td>306655</td>\n",
              "      <td>ThinkPad Laptop</td>\n",
              "      <td>1</td>\n",
              "      <td>999.99</td>\n",
              "      <td>2020-01-01 01:46:00</td>\n",
              "      <td>431 Hickory St, Los Angeles, CA 90001</td>\n",
              "      <td>2020</td>\n",
              "      <td>1</td>\n",
              "      <td>1</td>\n",
              "      <td>999.99</td>\n",
              "      <td>Los Angeles</td>\n",
              "    </tr>\n",
              "    <tr>\n",
              "      <th>11686</th>\n",
              "      <td>306809</td>\n",
              "      <td>Macbook Pro Laptop</td>\n",
              "      <td>1</td>\n",
              "      <td>1700.00</td>\n",
              "      <td>2020-01-01 02:20:00</td>\n",
              "      <td>326 14th St, Dallas, TX 75001</td>\n",
              "      <td>2020</td>\n",
              "      <td>1</td>\n",
              "      <td>2</td>\n",
              "      <td>1700.00</td>\n",
              "      <td>Dallas</td>\n",
              "    </tr>\n",
              "    <tr>\n",
              "      <th>11813</th>\n",
              "      <td>306928</td>\n",
              "      <td>ThinkPad Laptop</td>\n",
              "      <td>1</td>\n",
              "      <td>999.99</td>\n",
              "      <td>2020-01-01 03:14:00</td>\n",
              "      <td>762 Elm St, Boston, MA 02215</td>\n",
              "      <td>2020</td>\n",
              "      <td>1</td>\n",
              "      <td>3</td>\n",
              "      <td>999.99</td>\n",
              "      <td>Boston</td>\n",
              "    </tr>\n",
              "    <tr>\n",
              "      <th>12809</th>\n",
              "      <td>307890</td>\n",
              "      <td>Lightning Charging Cable</td>\n",
              "      <td>1</td>\n",
              "      <td>14.95</td>\n",
              "      <td>2020-01-01 02:06:00</td>\n",
              "      <td>39 Pine St, New York City, NY 10001</td>\n",
              "      <td>2020</td>\n",
              "      <td>1</td>\n",
              "      <td>2</td>\n",
              "      <td>14.95</td>\n",
              "      <td>New York City</td>\n",
              "    </tr>\n",
              "    <tr>\n",
              "      <th>13118</th>\n",
              "      <td>308185</td>\n",
              "      <td>27in FHD Monitor</td>\n",
              "      <td>1</td>\n",
              "      <td>149.99</td>\n",
              "      <td>2020-01-01 04:06:00</td>\n",
              "      <td>202 Maple St, San Francisco, CA 94016</td>\n",
              "      <td>2020</td>\n",
              "      <td>1</td>\n",
              "      <td>4</td>\n",
              "      <td>149.99</td>\n",
              "      <td>San Francisco</td>\n",
              "    </tr>\n",
              "    <tr>\n",
              "      <th>13262</th>\n",
              "      <td>308322</td>\n",
              "      <td>Bose SoundSport Headphones</td>\n",
              "      <td>1</td>\n",
              "      <td>99.99</td>\n",
              "      <td>2020-01-01 00:24:00</td>\n",
              "      <td>362 Willow St, San Francisco, CA 94016</td>\n",
              "      <td>2020</td>\n",
              "      <td>1</td>\n",
              "      <td>0</td>\n",
              "      <td>99.99</td>\n",
              "      <td>San Francisco</td>\n",
              "    </tr>\n",
              "    <tr>\n",
              "      <th>15087</th>\n",
              "      <td>310074</td>\n",
              "      <td>Apple Airpods Headphones</td>\n",
              "      <td>1</td>\n",
              "      <td>150.00</td>\n",
              "      <td>2020-01-01 01:46:00</td>\n",
              "      <td>636 Lakeview St, San Francisco, CA 94016</td>\n",
              "      <td>2020</td>\n",
              "      <td>1</td>\n",
              "      <td>1</td>\n",
              "      <td>150.00</td>\n",
              "      <td>San Francisco</td>\n",
              "    </tr>\n",
              "    <tr>\n",
              "      <th>16445</th>\n",
              "      <td>311386</td>\n",
              "      <td>iPhone</td>\n",
              "      <td>1</td>\n",
              "      <td>700.00</td>\n",
              "      <td>2020-01-01 00:10:00</td>\n",
              "      <td>730 Pine St, San Francisco, CA 94016</td>\n",
              "      <td>2020</td>\n",
              "      <td>1</td>\n",
              "      <td>0</td>\n",
              "      <td>700.00</td>\n",
              "      <td>San Francisco</td>\n",
              "    </tr>\n",
              "    <tr>\n",
              "      <th>16446</th>\n",
              "      <td>311386</td>\n",
              "      <td>Apple Airpods Headphones</td>\n",
              "      <td>1</td>\n",
              "      <td>150.00</td>\n",
              "      <td>2020-01-01 00:10:00</td>\n",
              "      <td>730 Pine St, San Francisco, CA 94016</td>\n",
              "      <td>2020</td>\n",
              "      <td>1</td>\n",
              "      <td>0</td>\n",
              "      <td>150.00</td>\n",
              "      <td>San Francisco</td>\n",
              "    </tr>\n",
              "    <tr>\n",
              "      <th>17104</th>\n",
              "      <td>312012</td>\n",
              "      <td>27in FHD Monitor</td>\n",
              "      <td>1</td>\n",
              "      <td>149.99</td>\n",
              "      <td>2020-01-01 02:12:00</td>\n",
              "      <td>507 13th St, San Francisco, CA 94016</td>\n",
              "      <td>2020</td>\n",
              "      <td>1</td>\n",
              "      <td>2</td>\n",
              "      <td>149.99</td>\n",
              "      <td>San Francisco</td>\n",
              "    </tr>\n",
              "    <tr>\n",
              "      <th>17942</th>\n",
              "      <td>312812</td>\n",
              "      <td>Flatscreen TV</td>\n",
              "      <td>1</td>\n",
              "      <td>300.00</td>\n",
              "      <td>2020-01-01 01:56:00</td>\n",
              "      <td>129 6th St, Boston, MA 02215</td>\n",
              "      <td>2020</td>\n",
              "      <td>1</td>\n",
              "      <td>1</td>\n",
              "      <td>300.00</td>\n",
              "      <td>Boston</td>\n",
              "    </tr>\n",
              "    <tr>\n",
              "      <th>19259</th>\n",
              "      <td>314066</td>\n",
              "      <td>USB-C Charging Cable</td>\n",
              "      <td>1</td>\n",
              "      <td>11.95</td>\n",
              "      <td>2020-01-01 01:52:00</td>\n",
              "      <td>922 8th St, New York City, NY 10001</td>\n",
              "      <td>2020</td>\n",
              "      <td>1</td>\n",
              "      <td>1</td>\n",
              "      <td>11.95</td>\n",
              "      <td>New York City</td>\n",
              "    </tr>\n",
              "    <tr>\n",
              "      <th>19764</th>\n",
              "      <td>314552</td>\n",
              "      <td>AAA Batteries (4-pack)</td>\n",
              "      <td>1</td>\n",
              "      <td>2.99</td>\n",
              "      <td>2020-01-01 01:47:00</td>\n",
              "      <td>541 4th St, San Francisco, CA 94016</td>\n",
              "      <td>2020</td>\n",
              "      <td>1</td>\n",
              "      <td>1</td>\n",
              "      <td>2.99</td>\n",
              "      <td>San Francisco</td>\n",
              "    </tr>\n",
              "    <tr>\n",
              "      <th>20380</th>\n",
              "      <td>315138</td>\n",
              "      <td>AAA Batteries (4-pack)</td>\n",
              "      <td>3</td>\n",
              "      <td>2.99</td>\n",
              "      <td>2020-01-01 00:51:00</td>\n",
              "      <td>257 Adams St, New York City, NY 10001</td>\n",
              "      <td>2020</td>\n",
              "      <td>1</td>\n",
              "      <td>0</td>\n",
              "      <td>8.97</td>\n",
              "      <td>New York City</td>\n",
              "    </tr>\n",
              "    <tr>\n",
              "      <th>20565</th>\n",
              "      <td>315315</td>\n",
              "      <td>27in 4K Gaming Monitor</td>\n",
              "      <td>1</td>\n",
              "      <td>389.99</td>\n",
              "      <td>2020-01-01 01:22:00</td>\n",
              "      <td>552 North St, Austin, TX 73301</td>\n",
              "      <td>2020</td>\n",
              "      <td>1</td>\n",
              "      <td>1</td>\n",
              "      <td>389.99</td>\n",
              "      <td>Austin</td>\n",
              "    </tr>\n",
              "    <tr>\n",
              "      <th>22160</th>\n",
              "      <td>316833</td>\n",
              "      <td>Vareebadd Phone</td>\n",
              "      <td>1</td>\n",
              "      <td>400.00</td>\n",
              "      <td>2020-01-01 02:58:00</td>\n",
              "      <td>378 Elm St, New York City, NY 10001</td>\n",
              "      <td>2020</td>\n",
              "      <td>1</td>\n",
              "      <td>2</td>\n",
              "      <td>400.00</td>\n",
              "      <td>New York City</td>\n",
              "    </tr>\n",
              "    <tr>\n",
              "      <th>22195</th>\n",
              "      <td>316867</td>\n",
              "      <td>27in FHD Monitor</td>\n",
              "      <td>1</td>\n",
              "      <td>149.99</td>\n",
              "      <td>2020-01-01 01:05:00</td>\n",
              "      <td>137 Madison St, Seattle, WA 98101</td>\n",
              "      <td>2020</td>\n",
              "      <td>1</td>\n",
              "      <td>1</td>\n",
              "      <td>149.99</td>\n",
              "      <td>Seattle</td>\n",
              "    </tr>\n",
              "    <tr>\n",
              "      <th>24742</th>\n",
              "      <td>319308</td>\n",
              "      <td>USB-C Charging Cable</td>\n",
              "      <td>1</td>\n",
              "      <td>11.95</td>\n",
              "      <td>2020-01-01 03:13:00</td>\n",
              "      <td>135 8th St, Boston, MA 02215</td>\n",
              "      <td>2020</td>\n",
              "      <td>1</td>\n",
              "      <td>3</td>\n",
              "      <td>11.95</td>\n",
              "      <td>Boston</td>\n",
              "    </tr>\n",
              "    <tr>\n",
              "      <th>24804</th>\n",
              "      <td>319366</td>\n",
              "      <td>20in Monitor</td>\n",
              "      <td>2</td>\n",
              "      <td>109.99</td>\n",
              "      <td>2020-01-01 00:45:00</td>\n",
              "      <td>746 South St, San Francisco, CA 94016</td>\n",
              "      <td>2020</td>\n",
              "      <td>1</td>\n",
              "      <td>0</td>\n",
              "      <td>219.98</td>\n",
              "      <td>San Francisco</td>\n",
              "    </tr>\n",
              "  </tbody>\n",
              "</table>\n",
              "</div>\n",
              "      <button class=\"colab-df-convert\" onclick=\"convertToInteractive('df-c5f58909-12b0-432f-aa62-20a53dad241f')\"\n",
              "              title=\"Convert this dataframe to an interactive table.\"\n",
              "              style=\"display:none;\">\n",
              "        \n",
              "  <svg xmlns=\"http://www.w3.org/2000/svg\" height=\"24px\"viewBox=\"0 0 24 24\"\n",
              "       width=\"24px\">\n",
              "    <path d=\"M0 0h24v24H0V0z\" fill=\"none\"/>\n",
              "    <path d=\"M18.56 5.44l.94 2.06.94-2.06 2.06-.94-2.06-.94-.94-2.06-.94 2.06-2.06.94zm-11 1L8.5 8.5l.94-2.06 2.06-.94-2.06-.94L8.5 2.5l-.94 2.06-2.06.94zm10 10l.94 2.06.94-2.06 2.06-.94-2.06-.94-.94-2.06-.94 2.06-2.06.94z\"/><path d=\"M17.41 7.96l-1.37-1.37c-.4-.4-.92-.59-1.43-.59-.52 0-1.04.2-1.43.59L10.3 9.45l-7.72 7.72c-.78.78-.78 2.05 0 2.83L4 21.41c.39.39.9.59 1.41.59.51 0 1.02-.2 1.41-.59l7.78-7.78 2.81-2.81c.8-.78.8-2.07 0-2.86zM5.41 20L4 18.59l7.72-7.72 1.47 1.35L5.41 20z\"/>\n",
              "  </svg>\n",
              "      </button>\n",
              "      \n",
              "  <style>\n",
              "    .colab-df-container {\n",
              "      display:flex;\n",
              "      flex-wrap:wrap;\n",
              "      gap: 12px;\n",
              "    }\n",
              "\n",
              "    .colab-df-convert {\n",
              "      background-color: #E8F0FE;\n",
              "      border: none;\n",
              "      border-radius: 50%;\n",
              "      cursor: pointer;\n",
              "      display: none;\n",
              "      fill: #1967D2;\n",
              "      height: 32px;\n",
              "      padding: 0 0 0 0;\n",
              "      width: 32px;\n",
              "    }\n",
              "\n",
              "    .colab-df-convert:hover {\n",
              "      background-color: #E2EBFA;\n",
              "      box-shadow: 0px 1px 2px rgba(60, 64, 67, 0.3), 0px 1px 3px 1px rgba(60, 64, 67, 0.15);\n",
              "      fill: #174EA6;\n",
              "    }\n",
              "\n",
              "    [theme=dark] .colab-df-convert {\n",
              "      background-color: #3B4455;\n",
              "      fill: #D2E3FC;\n",
              "    }\n",
              "\n",
              "    [theme=dark] .colab-df-convert:hover {\n",
              "      background-color: #434B5C;\n",
              "      box-shadow: 0px 1px 3px 1px rgba(0, 0, 0, 0.15);\n",
              "      filter: drop-shadow(0px 1px 2px rgba(0, 0, 0, 0.3));\n",
              "      fill: #FFFFFF;\n",
              "    }\n",
              "  </style>\n",
              "\n",
              "      <script>\n",
              "        const buttonEl =\n",
              "          document.querySelector('#df-c5f58909-12b0-432f-aa62-20a53dad241f button.colab-df-convert');\n",
              "        buttonEl.style.display =\n",
              "          google.colab.kernel.accessAllowed ? 'block' : 'none';\n",
              "\n",
              "        async function convertToInteractive(key) {\n",
              "          const element = document.querySelector('#df-c5f58909-12b0-432f-aa62-20a53dad241f');\n",
              "          const dataTable =\n",
              "            await google.colab.kernel.invokeFunction('convertToInteractive',\n",
              "                                                     [key], {});\n",
              "          if (!dataTable) return;\n",
              "\n",
              "          const docLinkHtml = 'Like what you see? Visit the ' +\n",
              "            '<a target=\"_blank\" href=https://colab.research.google.com/notebooks/data_table.ipynb>data table notebook</a>'\n",
              "            + ' to learn more about interactive tables.';\n",
              "          element.innerHTML = '';\n",
              "          dataTable['output_type'] = 'display_data';\n",
              "          await google.colab.output.renderOutput(dataTable, element);\n",
              "          const docLink = document.createElement('div');\n",
              "          docLink.innerHTML = docLinkHtml;\n",
              "          element.appendChild(docLink);\n",
              "        }\n",
              "      </script>\n",
              "    </div>\n",
              "  </div>\n",
              "  "
            ]
          },
          "metadata": {},
          "execution_count": 15
        }
      ]
    },
    {
      "cell_type": "code",
      "source": [
        "print('Total order not in 2019 :', len(data[data['Year']!=2019]))"
      ],
      "metadata": {
        "colab": {
          "base_uri": "https://localhost:8080/"
        },
        "id": "RZwmyv6EHttD",
        "outputId": "d30dba65-531b-464b-e12d-176fb1799dfe"
      },
      "execution_count": 16,
      "outputs": [
        {
          "output_type": "stream",
          "name": "stdout",
          "text": [
            "Total order not in 2019 : 34\n"
          ]
        }
      ]
    },
    {
      "cell_type": "markdown",
      "source": [
        "**Notes**:\n",
        "\n",
        "There are 34 data orders made in 2020. It can be seen that orders in 2020 were only recorded in January (1). Therefore, this analysis will focus on 2019."
      ],
      "metadata": {
        "id": "hNsTWhO0HO06"
      }
    },
    {
      "cell_type": "code",
      "source": [
        "df.drop(df[df['Year']!=2019].index, inplace=True)"
      ],
      "metadata": {
        "id": "9UA79dNZ_sZR"
      },
      "execution_count": 17,
      "outputs": []
    },
    {
      "cell_type": "code",
      "source": [
        "print('Total order not in 2019 :', len(df[df['Year']!=2019]))"
      ],
      "metadata": {
        "colab": {
          "base_uri": "https://localhost:8080/"
        },
        "id": "A89L1FZQAOMx",
        "outputId": "ded3dfee-8a03-4645-c400-267635f17454"
      },
      "execution_count": 18,
      "outputs": [
        {
          "output_type": "stream",
          "name": "stdout",
          "text": [
            "Total order not in 2019 : 0\n"
          ]
        }
      ]
    },
    {
      "cell_type": "markdown",
      "source": [
        "## **Task**"
      ],
      "metadata": {
        "id": "69N80kAQ75RW"
      }
    },
    {
      "cell_type": "markdown",
      "source": [
        "### **1. What was the best month for sales? How much was earned that month?**"
      ],
      "metadata": {
        "id": "DyjWUoKQ7_Wj"
      }
    },
    {
      "cell_type": "code",
      "source": [
        "sales_per_month = df.groupby('Month')[['Total Sales']].sum().sort_values('Total Sales', ascending=False).reset_index()\n",
        "\n",
        "fig, ax = plt.subplots(1, 1,figsize=(18,6))\n",
        "fig.suptitle('Total Sales per Month', fontsize=18, verticalalignment='bottom', weight = 'bold', alpha = .95)\n",
        "\n",
        "color = ['#457B9D']\n",
        "sns.barplot(x='Month', y='Total Sales', data=sales_per_month, palette=color)\n",
        "ax.set_ylabel('Total Sales', fontsize=14, weight = 'bold', alpha = .85)    \n",
        "ax.set_xlabel('')\n",
        "ax.set_xticklabels(labels = ['Jan','Feb','Mar','Apr','May','Jun','Jul','Aug','Sep','Oct','Nov','Dec'], fontsize=12, alpha = .75)\n",
        "ax.set_yticklabels(labels = ['$ 0M','$ 1M','$ 2M','$ 3M','$ 4M','$ 5M'], fontsize=12, alpha = .75)\n",
        "ax.set_ylim(0, 5000000)\n",
        "ax.spines['right'].set_visible(False)\n",
        "ax.spines['top'].set_visible(False)"
      ],
      "metadata": {
        "colab": {
          "base_uri": "https://localhost:8080/",
          "height": 438
        },
        "id": "cifnJr8R53-j",
        "outputId": "4e596de8-8e19-4866-b4ed-982e083fb40a"
      },
      "execution_count": 19,
      "outputs": [
        {
          "output_type": "display_data",
          "data": {
            "text/plain": [
              "<Figure size 1296x432 with 1 Axes>"
            ],
            "image/png": "[encoded data removed]"
          },
          "metadata": {
            "needs_background": "light"
          }
        }
      ]
    },
    {
      "cell_type": "markdown",
      "source": [
        "### **2. What City had the highest number of sales?**"
      ],
      "metadata": {
        "id": "DhgIOfJC8XX5"
      }
    },
    {
      "cell_type": "code",
      "source": [
        "sales_per_city = df.groupby('City')[['Total Sales']].sum().sort_values('Total Sales', ascending=False).reset_index()\n",
        "\n",
        "fig, ax = plt.subplots(1, 1,figsize=(15,6))\n",
        "fig.suptitle('Total Sales per City', fontsize=18, verticalalignment='bottom', weight = 'bold', alpha = .95)\n",
        "\n",
        "color = ['#457B9D']\n",
        "sns.barplot(x='Total Sales', y='City', data=sales_per_city, palette=color)\n",
        "ax.set_ylabel('')    \n",
        "ax.set_xlabel('Total Sales', fontsize=14, weight = 'bold', alpha = .85)\n",
        "ax.set_yticklabels(labels = ['San Francisco','Los Angeles','New York City','Boston','Atlanta','Dallas','Seattle','Portland','Austin'], fontsize=12, alpha = .75)\n",
        "ax.set_xticklabels(labels = ['$ 0M','$ 1M','$ 2M','$ 3M','$ 4M','$ 5M','$ 6M','$ 7M','$ 8M','$ 9M'], fontsize=12, alpha = .75)\n",
        "ax.set_xlim(0, 9000000)\n",
        "ax.spines['right'].set_visible(False)\n",
        "ax.spines['top'].set_visible(False)"
      ],
      "metadata": {
        "colab": {
          "base_uri": "https://localhost:8080/",
          "height": 456
        },
        "id": "IPEj3lupCKcy",
        "outputId": "32f185a5-b5aa-4647-d9c8-ae4123084d9a"
      },
      "execution_count": 84,
      "outputs": [
        {
          "output_type": "display_data",
          "data": {
            "text/plain": [
              "<Figure size 1080x432 with 1 Axes>"
            ],
            "image/png": "[encoded data removed]"
          },
          "metadata": {
            "needs_background": "light"
          }
        }
      ]
    },
    {
      "cell_type": "markdown",
      "source": [
        "### **3. What time should we display adverstisement to maximize likelihood of customer's buying product?**"
      ],
      "metadata": {
        "id": "AJQJjPdb8XRq"
      }
    },
    {
      "cell_type": "code",
      "source": [
        "order_per_hour = df.groupby('Hour').agg({'Order ID':'count',\n",
        "                                         'Total Sales':'sum'}).sort_values('Hour').reset_index()\n",
        "\n",
        "fig, ax = plt.subplots(1, 1,figsize=(15,6))\n",
        "fig.suptitle('Total Order per Hour', fontsize=18, verticalalignment='bottom', weight = 'bold', alpha = .95)\n",
        "\n",
        "color = ['#457B9D']\n",
        "sns.lineplot(data=order_per_hour, x='Hour', y='Order ID', palette=color)\n",
        "ax.set_ylabel('Order ID', fontsize=14, weight = 'bold', alpha = .85)    \n",
        "ax.set_xlabel('Hour', fontsize=14, weight = 'bold', alpha = .85)\n",
        "ax.set_yticklabels(labels = ['0','2K','4K','6K','8K','10K','12K','14K'], fontsize=12, alpha = .75)\n",
        "ax.set_ylim(0, 14000)\n",
        "ax.set_xlim(-1, 24)\n",
        "ax.spines['right'].set_visible(False)\n",
        "ax.spines['top'].set_visible(False)\n",
        "plt.axvline(19, color='#E63946', linestyle='--', ymin=0, ymax=0.925)\n",
        "plt.axvline(12, color='#E63946', linestyle='--', ymin=0, ymax=0.9)\n",
        "ax.annotate('19:00\\nor\\n7 PM', xy=(19, 12869), xytext=(21, 13000),\n",
        "             arrowprops=dict(facecolor='steelblue',arrowstyle='->',connectionstyle=\"arc3,rad=.5\"), fontsize=13,ha='center', color='#E63946')\n",
        "ax.annotate('12:00\\nor\\n12 PM', xy=(12, 12553), xytext=(14, 13000),\n",
        "             arrowprops=dict(facecolor='steelblue',arrowstyle='->',connectionstyle=\"arc3,rad=.5\"), fontsize=13,ha='center', color='#E63946')"
      ],
      "metadata": {
        "colab": {
          "base_uri": "https://localhost:8080/",
          "height": 470
        },
        "id": "nYFFaMw_DLTk",
        "outputId": "d53d3791-f7c7-46fb-d30e-65f4e86ec8f6"
      },
      "execution_count": 21,
      "outputs": [
        {
          "output_type": "execute_result",
          "data": {
            "text/plain": [
              "Text(14, 13000, '12:00\\nor\\n12 PM')"
            ]
          },
          "metadata": {},
          "execution_count": 21
        },
        {
          "output_type": "display_data",
          "data": {
            "text/plain": [
              "<Figure size 1080x432 with 1 Axes>"
            ],
            "image/png": "[encoded data removed]"
          },
          "metadata": {
            "needs_background": "light"
          }
        }
      ]
    },
    {
      "cell_type": "markdown",
      "source": [
        "### **4. What products are most often sold together?**"
      ],
      "metadata": {
        "id": "WgNT6n0d8XKq"
      }
    },
    {
      "cell_type": "code",
      "source": [
        "products = df.copy()\n",
        "\n",
        "products['Grouped'] = df.groupby('Order ID')['Product'].transform(lambda x: ','.join(x))\n",
        "products = products[['Order ID', 'Grouped']].drop_duplicates()\n",
        "count = Counter()\n",
        "for row in products['Grouped']:\n",
        "    row_list = row.split(',')\n",
        "    count.update(Counter(combinations(row_list, 2)))   \n",
        "\n",
        "for key, value in count.most_common(5):\n",
        "  print(key, value)"
      ],
      "metadata": {
        "colab": {
          "base_uri": "https://localhost:8080/"
        },
        "id": "A5EDFSr5FLHJ",
        "outputId": "0fd5f7c8-0c86-4dde-d5f6-86661c764aae"
      },
      "execution_count": 22,
      "outputs": [
        {
          "output_type": "stream",
          "name": "stdout",
          "text": [
            "('iPhone', 'Lightning Charging Cable') 1000\n",
            "('Google Phone', 'USB-C Charging Cable') 982\n",
            "('iPhone', 'Wired Headphones') 447\n",
            "('Google Phone', 'Wired Headphones') 410\n",
            "('Vareebadd Phone', 'USB-C Charging Cable') 359\n"
          ]
        }
      ]
    },
    {
      "cell_type": "markdown",
      "source": [
        "### **5. What product sold the most? Why do you think it sold the most?**"
      ],
      "metadata": {
        "id": "H4S-8ehT8W6w"
      }
    },
    {
      "cell_type": "code",
      "source": [
        "most_product_sold = df.groupby('Product').agg({'Order ID':'count',\n",
        "                           'Price Each':'mean'}).sort_values('Order ID', ascending=False).reset_index()\n",
        "\n",
        "fig, ax = plt.subplots(1, 1,figsize=(15,6))\n",
        "fig.suptitle(\"Products Are Most Often Sold\", fontsize=18, verticalalignment=\"bottom\", weight = 'bold', alpha = .95)\n",
        "\n",
        "color = ['#457B9D']\n",
        "sns.barplot(x='Order ID', y='Product', data=most_product_sold, palette=color, label='Number of Order').set(xlabel='Number of Order')\n",
        "\n",
        "ax.set_ylabel('')    \n",
        "ax.set_xlabel('Number of Order', fontsize=14, weight = 'bold', alpha = .85)\n",
        "ax.spines['right'].set_visible(False)\n",
        "ax.spines['top'].set_visible(False)\n",
        "\n",
        "ax2 = ax.twiny()\n",
        "ax2.grid(False)\n",
        "\n",
        "sns.scatterplot(x='Price Each', y='Product', data=most_product_sold, color='#E63946', label='Price Each').set(xlabel='Price Each')\n",
        "ax2.set_xlabel('Price Each in Dollar', fontsize=14, weight = 'bold', alpha = .85)\n",
        "\n",
        "ax2.legend().set_visible(False)\n",
        "fig.legend(loc='best', bbox_to_anchor=(1,.13), bbox_transform=ax2.transAxes) "
      ],
      "metadata": {
        "colab": {
          "base_uri": "https://localhost:8080/",
          "height": 507
        },
        "id": "_F_JGgtq0X_h",
        "outputId": "99209d30-e8b8-461d-b01f-29de3b73009c"
      },
      "execution_count": 77,
      "outputs": [
        {
          "output_type": "stream",
          "name": "stderr",
          "text": [
            "/usr/local/lib/python3.7/dist-packages/ipykernel_launcher.py:22: MatplotlibDeprecationWarning: Automatic legend placement (loc='best') not implemented for figure legend. Falling back on 'upper right'. This will raise an exception in 3.3.\n"
          ]
        },
        {
          "output_type": "execute_result",
          "data": {
            "text/plain": [
              "<matplotlib.legend.Legend at 0x7fb2c7af82d0>"
            ]
          },
          "metadata": {},
          "execution_count": 77
        },
        {
          "output_type": "display_data",
          "data": {
            "text/plain": [
              "<Figure size 1080x432 with 2 Axes>"
            ],
            "image/png": "[encoded data removed]"
          },
          "metadata": {
            "needs_background": "light"
          }
        }
      ]
    },
    {
      "cell_type": "markdown",
      "source": [
        "**Oberservation:**\n",
        "\n",
        "1. Total sales per month have a fluctuating value. However, December was the highest month for total sales generated followed by October. It can be said that the 4th quarter period (October - December) has the highest total sales.\n",
        "\n",
        "2. The city of Austin became the city with the highest total sales.\n",
        "\n",
        "3. 12 PM and 7 PM are the times when customers make the most transactions.\n",
        "\n",
        "4. iPhone & Lightning Charging Cable, Google Phone & USB-C Charging Cable, iPhone & Wired Headphones, Google Phone & Wired Headphones, and Vareebadd Phone & USB-C Charging Cable were the most purchased products together with a total order of consecutively 1000, 982, 447, 410, and 359.\n",
        "\n",
        "5. USB-C Charging Cables, Lightning Charging Cables, AAA Batteries (4-Pack), AA Batteries (4-Packs), and Wired Headphones were the 5 highest products sold in 2019. This was because these products were also the 5 lowest prices of the total products sold in 2019."
      ],
      "metadata": {
        "id": "yI06_izRWlFh"
      }
    }
  ]
}